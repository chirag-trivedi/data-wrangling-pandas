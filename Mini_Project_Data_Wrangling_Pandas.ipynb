{
 "cells": [
  {
   "cell_type": "markdown",
   "metadata": {},
   "source": [
    "# Mini-Project: Data Wrangling and Transformation with Pandas\n",
    "\n",
    "Working with tabular data is a necessity for anyone with enterprises having a majority of their data in relational databases and flat files. This mini-project is adopted from the excellent tutorial on pandas by Brandon Rhodes which you have watched earlier in the Data Wrangling Unit. In this mini-project, we will be looking at some interesting data based on movie data from the IMDB.\n",
    "\n",
    "This assignment should help you reinforce the concepts you learnt in the curriculum for Data Wrangling and sharpen your skills in using Pandas. Good Luck!"
   ]
  },
  {
   "cell_type": "markdown",
   "metadata": {},
   "source": [
    "### Please make sure you have one of the more recent versions of Pandas"
   ]
  },
  {
   "cell_type": "code",
   "execution_count": 1,
   "metadata": {},
   "outputs": [
    {
     "name": "stdout",
     "output_type": "stream",
     "text": [
      "Requirement already satisfied: pandas==0.23 in /usr/local/anaconda/lib/python3.6/site-packages (0.23.0)\n",
      "Requirement already satisfied: pytz>=2011k in /usr/local/anaconda/lib/python3.6/site-packages (from pandas==0.23) (2018.4)\n",
      "Requirement already satisfied: numpy>=1.9.0 in /usr/local/anaconda/lib/python3.6/site-packages (from pandas==0.23) (1.13.3)\n",
      "Requirement already satisfied: python-dateutil>=2.5.0 in /usr/local/anaconda/lib/python3.6/site-packages (from pandas==0.23) (2.7.3)\n",
      "Requirement already satisfied: six>=1.5 in /usr/local/anaconda/lib/python3.6/site-packages (from python-dateutil>=2.5.0->pandas==0.23) (1.11.0)\n",
      "\u001b[31mpyspark 2.4.0 requires py4j==0.10.7, which is not installed.\u001b[0m\n",
      "\u001b[33mYou are using pip version 10.0.1, however version 19.3.1 is available.\n",
      "You should consider upgrading via the 'pip install --upgrade pip' command.\u001b[0m\n",
      "Requirement already satisfied: tabulate in /usr/local/anaconda/lib/python3.6/site-packages (0.8.6)\n",
      "\u001b[31mpyspark 2.4.0 requires py4j==0.10.7, which is not installed.\u001b[0m\n",
      "\u001b[33mYou are using pip version 10.0.1, however version 19.3.1 is available.\n",
      "You should consider upgrading via the 'pip install --upgrade pip' command.\u001b[0m\n"
     ]
    }
   ],
   "source": [
    "!pip install pandas==0.23\n",
    "!pip install tabulate"
   ]
  },
  {
   "cell_type": "code",
   "execution_count": 2,
   "metadata": {
    "collapsed": true
   },
   "outputs": [],
   "source": [
    "import pandas as pd\n",
    "import matplotlib.pyplot as plt\n",
    "from tabulate import tabulate\n",
    "\n",
    "%matplotlib inline"
   ]
  },
  {
   "cell_type": "code",
   "execution_count": 3,
   "metadata": {},
   "outputs": [
    {
     "data": {
      "text/plain": [
       "'0.23.0'"
      ]
     },
     "execution_count": 3,
     "metadata": {},
     "output_type": "execute_result"
    }
   ],
   "source": [
    "pd.__version__"
   ]
  },
  {
   "cell_type": "markdown",
   "metadata": {},
   "source": [
    "## Taking a look at the Movies dataset\n",
    "This data shows the movies based on their title and the year of release"
   ]
  },
  {
   "cell_type": "code",
   "execution_count": 4,
   "metadata": {},
   "outputs": [
    {
     "name": "stdout",
     "output_type": "stream",
     "text": [
      "<class 'pandas.core.frame.DataFrame'>\n",
      "RangeIndex: 244914 entries, 0 to 244913\n",
      "Data columns (total 2 columns):\n",
      "title    244914 non-null object\n",
      "year     244914 non-null int64\n",
      "dtypes: int64(1), object(1)\n",
      "memory usage: 3.7+ MB\n"
     ]
    }
   ],
   "source": [
    "movies = pd.read_csv('titles.csv.bz2', compression='bz2')\n",
    "movies.info()"
   ]
  },
  {
   "cell_type": "code",
   "execution_count": 5,
   "metadata": {},
   "outputs": [
    {
     "data": {
      "text/html": [
       "<div>\n",
       "<style scoped>\n",
       "    .dataframe tbody tr th:only-of-type {\n",
       "        vertical-align: middle;\n",
       "    }\n",
       "\n",
       "    .dataframe tbody tr th {\n",
       "        vertical-align: top;\n",
       "    }\n",
       "\n",
       "    .dataframe thead th {\n",
       "        text-align: right;\n",
       "    }\n",
       "</style>\n",
       "<table border=\"1\" class=\"dataframe\">\n",
       "  <thead>\n",
       "    <tr style=\"text-align: right;\">\n",
       "      <th></th>\n",
       "      <th>title</th>\n",
       "      <th>year</th>\n",
       "    </tr>\n",
       "  </thead>\n",
       "  <tbody>\n",
       "    <tr>\n",
       "      <th>0</th>\n",
       "      <td>The Ticket to the Life</td>\n",
       "      <td>2009</td>\n",
       "    </tr>\n",
       "    <tr>\n",
       "      <th>1</th>\n",
       "      <td>Parallel Worlds: A New Rock Music Experience</td>\n",
       "      <td>2016</td>\n",
       "    </tr>\n",
       "    <tr>\n",
       "      <th>2</th>\n",
       "      <td>Morita - La hija de Jesus</td>\n",
       "      <td>2008</td>\n",
       "    </tr>\n",
       "    <tr>\n",
       "      <th>3</th>\n",
       "      <td>Gun</td>\n",
       "      <td>2017</td>\n",
       "    </tr>\n",
       "    <tr>\n",
       "      <th>4</th>\n",
       "      <td>Love or Nothing at All</td>\n",
       "      <td>2014</td>\n",
       "    </tr>\n",
       "  </tbody>\n",
       "</table>\n",
       "</div>"
      ],
      "text/plain": [
       "                                          title  year\n",
       "0                        The Ticket to the Life  2009\n",
       "1  Parallel Worlds: A New Rock Music Experience  2016\n",
       "2                     Morita - La hija de Jesus  2008\n",
       "3                                           Gun  2017\n",
       "4                        Love or Nothing at All  2014"
      ]
     },
     "execution_count": 5,
     "metadata": {},
     "output_type": "execute_result"
    }
   ],
   "source": [
    "movies.head()"
   ]
  },
  {
   "cell_type": "markdown",
   "metadata": {},
   "source": [
    "## Taking a look at the Cast dataset\n",
    "\n",
    "This data shows the cast (actors, actresses, supporting roles) for each movie\n",
    "\n",
    "- The attribute `n` basically tells the importance of the cast role, lower the number, more important the role.\n",
    "- Supporting cast usually don't have any value for `n`"
   ]
  },
  {
   "cell_type": "code",
   "execution_count": 6,
   "metadata": {},
   "outputs": [
    {
     "name": "stdout",
     "output_type": "stream",
     "text": [
      "<class 'pandas.core.frame.DataFrame'>\n",
      "RangeIndex: 3786176 entries, 0 to 3786175\n",
      "Data columns (total 6 columns):\n",
      "title        object\n",
      "year         int64\n",
      "name         object\n",
      "type         object\n",
      "character    object\n",
      "n            float64\n",
      "dtypes: float64(1), int64(1), object(4)\n",
      "memory usage: 173.3+ MB\n"
     ]
    }
   ],
   "source": [
    "cast = pd.read_csv('cast.csv.bz2', compression='bz2')\n",
    "cast.info()"
   ]
  },
  {
   "cell_type": "code",
   "execution_count": 7,
   "metadata": {},
   "outputs": [
    {
     "data": {
      "text/html": [
       "<div>\n",
       "<style scoped>\n",
       "    .dataframe tbody tr th:only-of-type {\n",
       "        vertical-align: middle;\n",
       "    }\n",
       "\n",
       "    .dataframe tbody tr th {\n",
       "        vertical-align: top;\n",
       "    }\n",
       "\n",
       "    .dataframe thead th {\n",
       "        text-align: right;\n",
       "    }\n",
       "</style>\n",
       "<table border=\"1\" class=\"dataframe\">\n",
       "  <thead>\n",
       "    <tr style=\"text-align: right;\">\n",
       "      <th></th>\n",
       "      <th>title</th>\n",
       "      <th>year</th>\n",
       "      <th>name</th>\n",
       "      <th>type</th>\n",
       "      <th>character</th>\n",
       "      <th>n</th>\n",
       "    </tr>\n",
       "  </thead>\n",
       "  <tbody>\n",
       "    <tr>\n",
       "      <th>0</th>\n",
       "      <td>Closet Monster</td>\n",
       "      <td>2015</td>\n",
       "      <td>Buffy #1</td>\n",
       "      <td>actor</td>\n",
       "      <td>Buffy 4</td>\n",
       "      <td>31.0</td>\n",
       "    </tr>\n",
       "    <tr>\n",
       "      <th>1</th>\n",
       "      <td>Suuri illusioni</td>\n",
       "      <td>1985</td>\n",
       "      <td>Homo $</td>\n",
       "      <td>actor</td>\n",
       "      <td>Guests</td>\n",
       "      <td>22.0</td>\n",
       "    </tr>\n",
       "    <tr>\n",
       "      <th>2</th>\n",
       "      <td>Battle of the Sexes</td>\n",
       "      <td>2017</td>\n",
       "      <td>$hutter</td>\n",
       "      <td>actor</td>\n",
       "      <td>Bobby Riggs Fan</td>\n",
       "      <td>10.0</td>\n",
       "    </tr>\n",
       "    <tr>\n",
       "      <th>3</th>\n",
       "      <td>Secret in Their Eyes</td>\n",
       "      <td>2015</td>\n",
       "      <td>$hutter</td>\n",
       "      <td>actor</td>\n",
       "      <td>2002 Dodger Fan</td>\n",
       "      <td>NaN</td>\n",
       "    </tr>\n",
       "    <tr>\n",
       "      <th>4</th>\n",
       "      <td>Steve Jobs</td>\n",
       "      <td>2015</td>\n",
       "      <td>$hutter</td>\n",
       "      <td>actor</td>\n",
       "      <td>1988 Opera House Patron</td>\n",
       "      <td>NaN</td>\n",
       "    </tr>\n",
       "    <tr>\n",
       "      <th>5</th>\n",
       "      <td>Straight Outta Compton</td>\n",
       "      <td>2015</td>\n",
       "      <td>$hutter</td>\n",
       "      <td>actor</td>\n",
       "      <td>Club Patron</td>\n",
       "      <td>NaN</td>\n",
       "    </tr>\n",
       "    <tr>\n",
       "      <th>6</th>\n",
       "      <td>Straight Outta Compton</td>\n",
       "      <td>2015</td>\n",
       "      <td>$hutter</td>\n",
       "      <td>actor</td>\n",
       "      <td>Dopeman</td>\n",
       "      <td>NaN</td>\n",
       "    </tr>\n",
       "    <tr>\n",
       "      <th>7</th>\n",
       "      <td>For Thy Love 2</td>\n",
       "      <td>2009</td>\n",
       "      <td>Bee Moe $lim</td>\n",
       "      <td>actor</td>\n",
       "      <td>Thug 1</td>\n",
       "      <td>NaN</td>\n",
       "    </tr>\n",
       "    <tr>\n",
       "      <th>8</th>\n",
       "      <td>Lapis, Ballpen at Diploma, a True to Life Journey</td>\n",
       "      <td>2014</td>\n",
       "      <td>Jori ' Danilo' Jurado Jr.</td>\n",
       "      <td>actor</td>\n",
       "      <td>Jaime (young)</td>\n",
       "      <td>9.0</td>\n",
       "    </tr>\n",
       "    <tr>\n",
       "      <th>9</th>\n",
       "      <td>Desire (III)</td>\n",
       "      <td>2014</td>\n",
       "      <td>Syaiful 'Ariffin</td>\n",
       "      <td>actor</td>\n",
       "      <td>Actor Playing Eteocles from 'Antigone'</td>\n",
       "      <td>NaN</td>\n",
       "    </tr>\n",
       "  </tbody>\n",
       "</table>\n",
       "</div>"
      ],
      "text/plain": [
       "                                               title  year  \\\n",
       "0                                     Closet Monster  2015   \n",
       "1                                    Suuri illusioni  1985   \n",
       "2                                Battle of the Sexes  2017   \n",
       "3                               Secret in Their Eyes  2015   \n",
       "4                                         Steve Jobs  2015   \n",
       "5                             Straight Outta Compton  2015   \n",
       "6                             Straight Outta Compton  2015   \n",
       "7                                     For Thy Love 2  2009   \n",
       "8  Lapis, Ballpen at Diploma, a True to Life Journey  2014   \n",
       "9                                       Desire (III)  2014   \n",
       "\n",
       "                        name   type                               character  \\\n",
       "0                   Buffy #1  actor                                 Buffy 4   \n",
       "1                     Homo $  actor                                  Guests   \n",
       "2                    $hutter  actor                         Bobby Riggs Fan   \n",
       "3                    $hutter  actor                         2002 Dodger Fan   \n",
       "4                    $hutter  actor                 1988 Opera House Patron   \n",
       "5                    $hutter  actor                             Club Patron   \n",
       "6                    $hutter  actor                                 Dopeman   \n",
       "7               Bee Moe $lim  actor                                  Thug 1   \n",
       "8  Jori ' Danilo' Jurado Jr.  actor                           Jaime (young)   \n",
       "9           Syaiful 'Ariffin  actor  Actor Playing Eteocles from 'Antigone'   \n",
       "\n",
       "      n  \n",
       "0  31.0  \n",
       "1  22.0  \n",
       "2  10.0  \n",
       "3   NaN  \n",
       "4   NaN  \n",
       "5   NaN  \n",
       "6   NaN  \n",
       "7   NaN  \n",
       "8   9.0  \n",
       "9   NaN  "
      ]
     },
     "execution_count": 7,
     "metadata": {},
     "output_type": "execute_result"
    }
   ],
   "source": [
    "cast.head(10)"
   ]
  },
  {
   "cell_type": "markdown",
   "metadata": {},
   "source": [
    "## Taking a look at the Release dataset\n",
    "\n",
    "This data shows details of when each movie was release in each country with the release date"
   ]
  },
  {
   "cell_type": "code",
   "execution_count": 8,
   "metadata": {},
   "outputs": [
    {
     "name": "stdout",
     "output_type": "stream",
     "text": [
      "<class 'pandas.core.frame.DataFrame'>\n",
      "RangeIndex: 479488 entries, 0 to 479487\n",
      "Data columns (total 4 columns):\n",
      "title      479488 non-null object\n",
      "year       479488 non-null int64\n",
      "country    479488 non-null object\n",
      "date       479488 non-null datetime64[ns]\n",
      "dtypes: datetime64[ns](1), int64(1), object(2)\n",
      "memory usage: 14.6+ MB\n"
     ]
    }
   ],
   "source": [
    "release_dates = pd.read_csv('release_dates.csv.bz2', compression='bz2', parse_dates=['date'], infer_datetime_format=True)\n",
    "release_dates.info()"
   ]
  },
  {
   "cell_type": "code",
   "execution_count": 9,
   "metadata": {},
   "outputs": [
    {
     "data": {
      "text/html": [
       "<div>\n",
       "<style scoped>\n",
       "    .dataframe tbody tr th:only-of-type {\n",
       "        vertical-align: middle;\n",
       "    }\n",
       "\n",
       "    .dataframe tbody tr th {\n",
       "        vertical-align: top;\n",
       "    }\n",
       "\n",
       "    .dataframe thead th {\n",
       "        text-align: right;\n",
       "    }\n",
       "</style>\n",
       "<table border=\"1\" class=\"dataframe\">\n",
       "  <thead>\n",
       "    <tr style=\"text-align: right;\">\n",
       "      <th></th>\n",
       "      <th>title</th>\n",
       "      <th>year</th>\n",
       "      <th>country</th>\n",
       "      <th>date</th>\n",
       "    </tr>\n",
       "  </thead>\n",
       "  <tbody>\n",
       "    <tr>\n",
       "      <th>0</th>\n",
       "      <td>#73, Shaanthi Nivaasa</td>\n",
       "      <td>2007</td>\n",
       "      <td>India</td>\n",
       "      <td>2007-06-15</td>\n",
       "    </tr>\n",
       "    <tr>\n",
       "      <th>1</th>\n",
       "      <td>#BKKY</td>\n",
       "      <td>2016</td>\n",
       "      <td>Cambodia</td>\n",
       "      <td>2017-10-12</td>\n",
       "    </tr>\n",
       "    <tr>\n",
       "      <th>2</th>\n",
       "      <td>#Beings</td>\n",
       "      <td>2015</td>\n",
       "      <td>Romania</td>\n",
       "      <td>2015-01-29</td>\n",
       "    </tr>\n",
       "    <tr>\n",
       "      <th>3</th>\n",
       "      <td>#Captured</td>\n",
       "      <td>2017</td>\n",
       "      <td>USA</td>\n",
       "      <td>2017-09-05</td>\n",
       "    </tr>\n",
       "    <tr>\n",
       "      <th>4</th>\n",
       "      <td>#Ewankosau saranghaeyo</td>\n",
       "      <td>2015</td>\n",
       "      <td>Philippines</td>\n",
       "      <td>2015-01-21</td>\n",
       "    </tr>\n",
       "  </tbody>\n",
       "</table>\n",
       "</div>"
      ],
      "text/plain": [
       "                    title  year      country       date\n",
       "0   #73, Shaanthi Nivaasa  2007        India 2007-06-15\n",
       "1                   #BKKY  2016     Cambodia 2017-10-12\n",
       "2                 #Beings  2015      Romania 2015-01-29\n",
       "3               #Captured  2017          USA 2017-09-05\n",
       "4  #Ewankosau saranghaeyo  2015  Philippines 2015-01-21"
      ]
     },
     "execution_count": 9,
     "metadata": {},
     "output_type": "execute_result"
    }
   ],
   "source": [
    "release_dates.head()"
   ]
  },
  {
   "cell_type": "markdown",
   "metadata": {},
   "source": [
    "# Section I - Basic Querying, Filtering and Transformations"
   ]
  },
  {
   "cell_type": "markdown",
   "metadata": {},
   "source": [
    "### What is the total number of movies?"
   ]
  },
  {
   "cell_type": "code",
   "execution_count": 10,
   "metadata": {},
   "outputs": [
    {
     "data": {
      "text/plain": [
       "244914"
      ]
     },
     "execution_count": 10,
     "metadata": {},
     "output_type": "execute_result"
    }
   ],
   "source": [
    "len(movies)"
   ]
  },
  {
   "cell_type": "markdown",
   "metadata": {},
   "source": [
    "### List all Batman movies ever made"
   ]
  },
  {
   "cell_type": "code",
   "execution_count": 11,
   "metadata": {},
   "outputs": [
    {
     "name": "stdout",
     "output_type": "stream",
     "text": [
      "Total Batman Movies: 2\n"
     ]
    },
    {
     "data": {
      "text/html": [
       "<div>\n",
       "<style scoped>\n",
       "    .dataframe tbody tr th:only-of-type {\n",
       "        vertical-align: middle;\n",
       "    }\n",
       "\n",
       "    .dataframe tbody tr th {\n",
       "        vertical-align: top;\n",
       "    }\n",
       "\n",
       "    .dataframe thead th {\n",
       "        text-align: right;\n",
       "    }\n",
       "</style>\n",
       "<table border=\"1\" class=\"dataframe\">\n",
       "  <thead>\n",
       "    <tr style=\"text-align: right;\">\n",
       "      <th></th>\n",
       "      <th>title</th>\n",
       "      <th>year</th>\n",
       "    </tr>\n",
       "  </thead>\n",
       "  <tbody>\n",
       "    <tr>\n",
       "      <th>52734</th>\n",
       "      <td>Batman</td>\n",
       "      <td>1943</td>\n",
       "    </tr>\n",
       "    <tr>\n",
       "      <th>150621</th>\n",
       "      <td>Batman</td>\n",
       "      <td>1989</td>\n",
       "    </tr>\n",
       "  </tbody>\n",
       "</table>\n",
       "</div>"
      ],
      "text/plain": [
       "         title  year\n",
       "52734   Batman  1943\n",
       "150621  Batman  1989"
      ]
     },
     "execution_count": 11,
     "metadata": {},
     "output_type": "execute_result"
    }
   ],
   "source": [
    "batman_df = movies[movies.title == 'Batman']\n",
    "print('Total Batman Movies:', len(batman_df))\n",
    "batman_df"
   ]
  },
  {
   "cell_type": "markdown",
   "metadata": {},
   "source": [
    "### List all Batman movies ever made - the right approach"
   ]
  },
  {
   "cell_type": "code",
   "execution_count": 12,
   "metadata": {},
   "outputs": [
    {
     "name": "stdout",
     "output_type": "stream",
     "text": [
      "Total Batman Movies: 35\n"
     ]
    },
    {
     "data": {
      "text/html": [
       "<div>\n",
       "<style scoped>\n",
       "    .dataframe tbody tr th:only-of-type {\n",
       "        vertical-align: middle;\n",
       "    }\n",
       "\n",
       "    .dataframe tbody tr th {\n",
       "        vertical-align: top;\n",
       "    }\n",
       "\n",
       "    .dataframe thead th {\n",
       "        text-align: right;\n",
       "    }\n",
       "</style>\n",
       "<table border=\"1\" class=\"dataframe\">\n",
       "  <thead>\n",
       "    <tr style=\"text-align: right;\">\n",
       "      <th></th>\n",
       "      <th>title</th>\n",
       "      <th>year</th>\n",
       "    </tr>\n",
       "  </thead>\n",
       "  <tbody>\n",
       "    <tr>\n",
       "      <th>16813</th>\n",
       "      <td>Batman: Anarchy</td>\n",
       "      <td>2016</td>\n",
       "    </tr>\n",
       "    <tr>\n",
       "      <th>30236</th>\n",
       "      <td>Batman Forever</td>\n",
       "      <td>1995</td>\n",
       "    </tr>\n",
       "    <tr>\n",
       "      <th>31674</th>\n",
       "      <td>Batman Untold</td>\n",
       "      <td>2010</td>\n",
       "    </tr>\n",
       "    <tr>\n",
       "      <th>31711</th>\n",
       "      <td>Scooby-Doo &amp; Batman: the Brave and the Bold</td>\n",
       "      <td>2018</td>\n",
       "    </tr>\n",
       "    <tr>\n",
       "      <th>41881</th>\n",
       "      <td>Batman the Rise of Red Hood</td>\n",
       "      <td>2018</td>\n",
       "    </tr>\n",
       "    <tr>\n",
       "      <th>43484</th>\n",
       "      <td>Batman: Return of the Caped Crusaders</td>\n",
       "      <td>2016</td>\n",
       "    </tr>\n",
       "    <tr>\n",
       "      <th>46333</th>\n",
       "      <td>Batman &amp; Robin</td>\n",
       "      <td>1997</td>\n",
       "    </tr>\n",
       "    <tr>\n",
       "      <th>51811</th>\n",
       "      <td>Batman Revealed</td>\n",
       "      <td>2012</td>\n",
       "    </tr>\n",
       "    <tr>\n",
       "      <th>52734</th>\n",
       "      <td>Batman</td>\n",
       "      <td>1943</td>\n",
       "    </tr>\n",
       "    <tr>\n",
       "      <th>56029</th>\n",
       "      <td>Batman Beyond: Rising Knight</td>\n",
       "      <td>2014</td>\n",
       "    </tr>\n",
       "  </tbody>\n",
       "</table>\n",
       "</div>"
      ],
      "text/plain": [
       "                                             title  year\n",
       "16813                              Batman: Anarchy  2016\n",
       "30236                               Batman Forever  1995\n",
       "31674                                Batman Untold  2010\n",
       "31711  Scooby-Doo & Batman: the Brave and the Bold  2018\n",
       "41881                  Batman the Rise of Red Hood  2018\n",
       "43484        Batman: Return of the Caped Crusaders  2016\n",
       "46333                               Batman & Robin  1997\n",
       "51811                              Batman Revealed  2012\n",
       "52734                                       Batman  1943\n",
       "56029                 Batman Beyond: Rising Knight  2014"
      ]
     },
     "execution_count": 12,
     "metadata": {},
     "output_type": "execute_result"
    }
   ],
   "source": [
    "batman_df = movies[movies.title.str.contains('Batman', case=False)]\n",
    "print('Total Batman Movies:', len(batman_df))\n",
    "batman_df.head(10)"
   ]
  },
  {
   "cell_type": "markdown",
   "metadata": {},
   "source": [
    "### Display the top 15 Batman movies in the order they were released"
   ]
  },
  {
   "cell_type": "code",
   "execution_count": 13,
   "metadata": {},
   "outputs": [
    {
     "data": {
      "text/html": [
       "<div>\n",
       "<style scoped>\n",
       "    .dataframe tbody tr th:only-of-type {\n",
       "        vertical-align: middle;\n",
       "    }\n",
       "\n",
       "    .dataframe tbody tr th {\n",
       "        vertical-align: top;\n",
       "    }\n",
       "\n",
       "    .dataframe thead th {\n",
       "        text-align: right;\n",
       "    }\n",
       "</style>\n",
       "<table border=\"1\" class=\"dataframe\">\n",
       "  <thead>\n",
       "    <tr style=\"text-align: right;\">\n",
       "      <th></th>\n",
       "      <th>title</th>\n",
       "      <th>year</th>\n",
       "    </tr>\n",
       "  </thead>\n",
       "  <tbody>\n",
       "    <tr>\n",
       "      <th>52734</th>\n",
       "      <td>Batman</td>\n",
       "      <td>1943</td>\n",
       "    </tr>\n",
       "    <tr>\n",
       "      <th>100056</th>\n",
       "      <td>Batman and Robin</td>\n",
       "      <td>1949</td>\n",
       "    </tr>\n",
       "    <tr>\n",
       "      <th>161439</th>\n",
       "      <td>Batman Dracula</td>\n",
       "      <td>1964</td>\n",
       "    </tr>\n",
       "    <tr>\n",
       "      <th>84327</th>\n",
       "      <td>Alyas Batman at Robin</td>\n",
       "      <td>1965</td>\n",
       "    </tr>\n",
       "    <tr>\n",
       "      <th>68364</th>\n",
       "      <td>James Batman</td>\n",
       "      <td>1966</td>\n",
       "    </tr>\n",
       "    <tr>\n",
       "      <th>161527</th>\n",
       "      <td>Batman: The Movie</td>\n",
       "      <td>1966</td>\n",
       "    </tr>\n",
       "    <tr>\n",
       "      <th>56159</th>\n",
       "      <td>Batman Fights Dracula</td>\n",
       "      <td>1967</td>\n",
       "    </tr>\n",
       "    <tr>\n",
       "      <th>168504</th>\n",
       "      <td>Fight! Batman, Fight!</td>\n",
       "      <td>1973</td>\n",
       "    </tr>\n",
       "    <tr>\n",
       "      <th>150621</th>\n",
       "      <td>Batman</td>\n",
       "      <td>1989</td>\n",
       "    </tr>\n",
       "    <tr>\n",
       "      <th>156239</th>\n",
       "      <td>Alyas Batman en Robin</td>\n",
       "      <td>1991</td>\n",
       "    </tr>\n",
       "    <tr>\n",
       "      <th>156755</th>\n",
       "      <td>Batman Returns</td>\n",
       "      <td>1992</td>\n",
       "    </tr>\n",
       "    <tr>\n",
       "      <th>63366</th>\n",
       "      <td>Batman: Mask of the Phantasm</td>\n",
       "      <td>1993</td>\n",
       "    </tr>\n",
       "    <tr>\n",
       "      <th>30236</th>\n",
       "      <td>Batman Forever</td>\n",
       "      <td>1995</td>\n",
       "    </tr>\n",
       "    <tr>\n",
       "      <th>46333</th>\n",
       "      <td>Batman &amp; Robin</td>\n",
       "      <td>1997</td>\n",
       "    </tr>\n",
       "    <tr>\n",
       "      <th>208220</th>\n",
       "      <td>Batman Begins</td>\n",
       "      <td>2005</td>\n",
       "    </tr>\n",
       "  </tbody>\n",
       "</table>\n",
       "</div>"
      ],
      "text/plain": [
       "                               title  year\n",
       "52734                         Batman  1943\n",
       "100056              Batman and Robin  1949\n",
       "161439                Batman Dracula  1964\n",
       "84327          Alyas Batman at Robin  1965\n",
       "68364                   James Batman  1966\n",
       "161527             Batman: The Movie  1966\n",
       "56159          Batman Fights Dracula  1967\n",
       "168504         Fight! Batman, Fight!  1973\n",
       "150621                        Batman  1989\n",
       "156239         Alyas Batman en Robin  1991\n",
       "156755                Batman Returns  1992\n",
       "63366   Batman: Mask of the Phantasm  1993\n",
       "30236                 Batman Forever  1995\n",
       "46333                 Batman & Robin  1997\n",
       "208220                 Batman Begins  2005"
      ]
     },
     "execution_count": 13,
     "metadata": {},
     "output_type": "execute_result"
    }
   ],
   "source": [
    "batman_df.sort_values(by=['year'], ascending=True).iloc[:15]"
   ]
  },
  {
   "cell_type": "markdown",
   "metadata": {},
   "source": [
    "### Section I - Q1 : List all the 'Harry Potter' movies from the most recent to the earliest"
   ]
  },
  {
   "cell_type": "code",
   "execution_count": 14,
   "metadata": {},
   "outputs": [
    {
     "name": "stdout",
     "output_type": "stream",
     "text": [
      "Total No of Harry Potter Movies: 8\n",
      "╒══════════════════════════════════════════════╤════════╕\n",
      "│ Harry Potter Movie Name                      │   Year │\n",
      "╞══════════════════════════════════════════════╪════════╡\n",
      "│ Harry Potter and the Deathly Hallows: Part 2 │   2011 │\n",
      "├──────────────────────────────────────────────┼────────┤\n",
      "│ Harry Potter and the Deathly Hallows: Part 1 │   2010 │\n",
      "├──────────────────────────────────────────────┼────────┤\n",
      "│ Harry Potter and the Half-Blood Prince       │   2009 │\n",
      "├──────────────────────────────────────────────┼────────┤\n",
      "│ Harry Potter and the Order of the Phoenix    │   2007 │\n",
      "├──────────────────────────────────────────────┼────────┤\n",
      "│ Harry Potter and the Goblet of Fire          │   2005 │\n",
      "├──────────────────────────────────────────────┼────────┤\n",
      "│ Harry Potter and the Prisoner of Azkaban     │   2004 │\n",
      "├──────────────────────────────────────────────┼────────┤\n",
      "│ Harry Potter and the Chamber of Secrets      │   2002 │\n",
      "├──────────────────────────────────────────────┼────────┤\n",
      "│ Harry Potter and the Sorcerer's Stone        │   2001 │\n",
      "╘══════════════════════════════════════════════╧════════╛\n"
     ]
    }
   ],
   "source": [
    "harry_potter_df = movies[movies.title.str.contains('Harry Potter', case=False)]\n",
    "no_of_movies = len(harry_potter_df)\n",
    "print(f'Total No of Harry Potter Movies: {no_of_movies}')\n",
    "harry_potter_sort_df = harry_potter_df.sort_values(by=['year'], ascending=False)\n",
    "print(tabulate(harry_potter_sort_df, headers=['Harry Potter Movie Name','Year'], tablefmt='fancy_grid', showindex=False))"
   ]
  },
  {
   "cell_type": "markdown",
   "metadata": {},
   "source": [
    "### How many movies were made in the year 2017?"
   ]
  },
  {
   "cell_type": "code",
   "execution_count": 15,
   "metadata": {},
   "outputs": [
    {
     "data": {
      "text/plain": [
       "11474"
      ]
     },
     "execution_count": 15,
     "metadata": {},
     "output_type": "execute_result"
    }
   ],
   "source": [
    "len(movies[movies.year == 2017])"
   ]
  },
  {
   "cell_type": "markdown",
   "metadata": {},
   "source": [
    "### Section I - Q2 : How many movies were made in the year 2015?"
   ]
  },
  {
   "cell_type": "code",
   "execution_count": 16,
   "metadata": {},
   "outputs": [
    {
     "name": "stdout",
     "output_type": "stream",
     "text": [
      "The no of movies made in 2015 are : 8702\n"
     ]
    }
   ],
   "source": [
    "movies_made_in_2015 = len(movies[movies.year == 2015])\n",
    "print(f'The no of movies made in 2015 are : {movies_made_in_2015}')"
   ]
  },
  {
   "cell_type": "markdown",
   "metadata": {},
   "source": [
    "### Section I - Q3 : How many movies were made from 2000 till 2018?\n",
    "- You can chain multiple conditions using OR (`|`) as well as AND (`&`) depending on the condition"
   ]
  },
  {
   "cell_type": "code",
   "execution_count": 17,
   "metadata": {},
   "outputs": [
    {
     "name": "stdout",
     "output_type": "stream",
     "text": [
      "The no of movies made from 2000 to 2018 are : 114070\n"
     ]
    }
   ],
   "source": [
    "movies_made_from_2000_to_2018 = len(movies[(movies.year >= 2000) & (movies.year <= 2018)])\n",
    "print(f'The no of movies made from 2000 to 2018 are : {movies_made_from_2000_to_2018}')"
   ]
  },
  {
   "cell_type": "markdown",
   "metadata": {},
   "source": [
    "### Section I - Q4: How many movies are titled \"Hamlet\"?"
   ]
  },
  {
   "cell_type": "code",
   "execution_count": 18,
   "metadata": {},
   "outputs": [
    {
     "name": "stdout",
     "output_type": "stream",
     "text": [
      "The no of movies titled Hamlet are : 20\n"
     ]
    }
   ],
   "source": [
    "movies_hamlet = len(movies[movies.title == 'Hamlet'])\n",
    "print(f'The no of movies titled Hamlet are : {movies_hamlet}')"
   ]
  },
  {
   "cell_type": "markdown",
   "metadata": {},
   "source": [
    "### Section I - Q5: List all movies titled \"Hamlet\" \n",
    "- The movies should only have been released on or after the year 2000\n",
    "- Display the movies based on the year they were released (earliest to most recent)"
   ]
  },
  {
   "cell_type": "code",
   "execution_count": 19,
   "metadata": {},
   "outputs": [
    {
     "name": "stdout",
     "output_type": "stream",
     "text": [
      "╒═════════╤════════╕\n",
      "│ title   │   year │\n",
      "╞═════════╪════════╡\n",
      "│ Hamlet  │   2000 │\n",
      "├─────────┼────────┤\n",
      "│ Hamlet  │   2009 │\n",
      "├─────────┼────────┤\n",
      "│ Hamlet  │   2011 │\n",
      "├─────────┼────────┤\n",
      "│ Hamlet  │   2014 │\n",
      "├─────────┼────────┤\n",
      "│ Hamlet  │   2015 │\n",
      "├─────────┼────────┤\n",
      "│ Hamlet  │   2016 │\n",
      "├─────────┼────────┤\n",
      "│ Hamlet  │   2017 │\n",
      "╘═════════╧════════╛\n"
     ]
    }
   ],
   "source": [
    "movies_hamlet_df = movies[(movies.title == 'Hamlet') & (movies.year >= 2000)].sort_values(by=['year'])\n",
    "print(tabulate(movies_hamlet_df, headers='keys', tablefmt='fancy_grid', showindex=False))"
   ]
  },
  {
   "cell_type": "markdown",
   "metadata": {},
   "source": [
    "### Section I - Q6: How many roles in the movie \"Inception\" are of the supporting cast (extra credits)\n",
    "- supporting cast are NOT ranked by an \"n\" value (NaN)\n",
    "- check for how to filter based on nulls"
   ]
  },
  {
   "cell_type": "code",
   "execution_count": 20,
   "metadata": {},
   "outputs": [
    {
     "name": "stdout",
     "output_type": "stream",
     "text": [
      "╒═══════════╤════════╤═════════════════════════╤═════════╤═══════════════════════════╤═════╕\n",
      "│ title     │   year │ name                    │ type    │ character                 │   n │\n",
      "╞═══════════╪════════╪═════════════════════════╪═════════╪═══════════════════════════╪═════╡\n",
      "│ Inception │   2010 │ Michael (III) August    │ actor   │ LAX Passenger             │ nan │\n",
      "├───────────┼────────┼─────────────────────────┼─────────┼───────────────────────────┼─────┤\n",
      "│ Inception │   2010 │ Ken Bhan                │ actor   │ Mombasan Gambler          │ nan │\n",
      "├───────────┼────────┼─────────────────────────┼─────────┼───────────────────────────┼─────┤\n",
      "│ Inception │   2010 │ John Ceallach           │ actor   │ LAX Passenger             │ nan │\n",
      "├───────────┼────────┼─────────────────────────┼─────────┼───────────────────────────┼─────┤\n",
      "│ Inception │   2010 │ Garvin Cross            │ actor   │ Snow Commander            │ nan │\n",
      "├───────────┼────────┼─────────────────────────┼─────────┼───────────────────────────┼─────┤\n",
      "│ Inception │   2010 │ Seve Esposito           │ actor   │ Italian Gambler           │ nan │\n",
      "├───────────┼────────┼─────────────────────────┼─────────┼───────────────────────────┼─────┤\n",
      "│ Inception │   2010 │ Marcus (II) Everett     │ actor   │ Stock Broker              │ nan │\n",
      "├───────────┼────────┼─────────────────────────┼─────────┼───────────────────────────┼─────┤\n",
      "│ Inception │   2010 │ Zachary Christopher Fay │ actor   │ Extra                     │ nan │\n",
      "├───────────┼────────┼─────────────────────────┼─────────┼───────────────────────────┼─────┤\n",
      "│ Inception │   2010 │ Daniel Girondeaud       │ actor   │ Bridge Sub Con            │ nan │\n",
      "├───────────┼────────┼─────────────────────────┼─────────┼───────────────────────────┼─────┤\n",
      "│ Inception │   2010 │ Andrew Hoagland         │ actor   │ Pedestrian                │ nan │\n",
      "├───────────┼────────┼─────────────────────────┼─────────┼───────────────────────────┼─────┤\n",
      "│ Inception │   2010 │ Charles Jarrell         │ actor   │ Hotel Guest               │ nan │\n",
      "├───────────┼────────┼─────────────────────────┼─────────┼───────────────────────────┼─────┤\n",
      "│ Inception │   2010 │ Seong-hwan Jo           │ actor   │ Japanese Landing Crew     │ nan │\n",
      "├───────────┼────────┼─────────────────────────┼─────────┼───────────────────────────┼─────┤\n",
      "│ Inception │   2010 │ Alonzo F. Jones         │ actor   │ Mombasan Casino Staff     │ nan │\n",
      "├───────────┼────────┼─────────────────────────┼─────────┼───────────────────────────┼─────┤\n",
      "│ Inception │   2010 │ Mobin Khan              │ actor   │ Mombasa Casino Cashier    │ nan │\n",
      "├───────────┼────────┼─────────────────────────┼─────────┼───────────────────────────┼─────┤\n",
      "│ Inception │   2010 │ Shunsaku Kud?           │ actor   │ Saito's Bodyguard Officer │ nan │\n",
      "├───────────┼────────┼─────────────────────────┼─────────┼───────────────────────────┼─────┤\n",
      "│ Inception │   2010 │ John (IX) Lawson        │ actor   │ Street Person             │ nan │\n",
      "├───────────┼────────┼─────────────────────────┼─────────┼───────────────────────────┼─────┤\n",
      "│ Inception │   2010 │ Jean-Christophe Leger   │ actor   │ French Student            │ nan │\n",
      "├───────────┼────────┼─────────────────────────┼─────────┼───────────────────────────┼─────┤\n",
      "│ Inception │   2010 │ Fran?ois-Marie Nivon    │ actor   │ A Passer-By               │ nan │\n",
      "├───────────┼────────┼─────────────────────────┼─────────┼───────────────────────────┼─────┤\n",
      "│ Inception │   2010 │ Scott Pretty            │ actor   │ Pedestrian                │ nan │\n",
      "├───────────┼────────┼─────────────────────────┼─────────┼───────────────────────────┼─────┤\n",
      "│ Inception │   2010 │ Benjamin (II) Riley     │ actor   │ Bridge Sub Con            │ nan │\n",
      "├───────────┼────────┼─────────────────────────┼─────────┼───────────────────────────┼─────┤\n",
      "│ Inception │   2010 │ Norman Saleet           │ actor   │ Airport Patron            │ nan │\n",
      "├───────────┼────────┼─────────────────────────┼─────────┼───────────────────────────┼─────┤\n",
      "│ Inception │   2010 │ Colin (XXV) Smith       │ actor   │ Airport Patron            │ nan │\n",
      "├───────────┼────────┼─────────────────────────┼─────────┼───────────────────────────┼─────┤\n",
      "│ Inception │   2010 │ Affan Tareen            │ actor   │ Denison                   │ nan │\n",
      "├───────────┼────────┼─────────────────────────┼─────────┼───────────────────────────┼─────┤\n",
      "│ Inception │   2010 │ Youlanda Davis          │ actress │ Mombasan Cashier          │ nan │\n",
      "├───────────┼────────┼─────────────────────────┼─────────┼───────────────────────────┼─────┤\n",
      "│ Inception │   2010 │ Julie Eagleton          │ actress │ Stockbroker               │ nan │\n",
      "├───────────┼────────┼─────────────────────────┼─────────┼───────────────────────────┼─────┤\n",
      "│ Inception │   2010 │ Natalie Goldwin         │ actress │ LAX Passenger             │ nan │\n",
      "├───────────┼────────┼─────────────────────────┼─────────┼───────────────────────────┼─────┤\n",
      "│ Inception │   2010 │ Marguerite Insolia      │ actress │ Reporter                  │ nan │\n",
      "├───────────┼────────┼─────────────────────────┼─────────┼───────────────────────────┼─────┤\n",
      "│ Inception │   2010 │ Leticia LaBelle         │ actress │ Airport Patron            │ nan │\n",
      "╘═══════════╧════════╧═════════════════════════╧═════════╧═══════════════════════════╧═════╛\n",
      "the no of supporting cast for the Inception movie are : 27\n"
     ]
    }
   ],
   "source": [
    "df_cast_inception = cast[cast.title == 'Inception']\n",
    "df_cast_inception_support = df_cast_inception[df_cast_inception.n.isnull()]\n",
    "print(tabulate(df_cast_inception_support, headers='keys', tablefmt='fancy_grid', showindex=False))\n",
    "supporting_cast = len(df_cast_inception_support)\n",
    "print(f'the no of supporting cast for the Inception movie are : {supporting_cast}')"
   ]
  },
  {
   "cell_type": "markdown",
   "metadata": {},
   "source": [
    "### Section I - Q7: How many roles in the movie \"Inception\" are of the main cast\n",
    "- main cast always have an 'n' value"
   ]
  },
  {
   "cell_type": "code",
   "execution_count": 21,
   "metadata": {},
   "outputs": [
    {
     "name": "stdout",
     "output_type": "stream",
     "text": [
      "╒═══════════╤════════╤══════════════════════╤═════════╤═════════════════════════╤═════╕\n",
      "│ title     │   year │ name                 │ type    │ character               │   n │\n",
      "╞═══════════╪════════╪══════════════════════╪═════════╪═════════════════════════╪═════╡\n",
      "│ Inception │   2010 │ Peter Basham         │ actor   │ Fischer's Jet Captain   │  44 │\n",
      "├───────────┼────────┼──────────────────────┼─────────┼─────────────────────────┼─────┤\n",
      "│ Inception │   2010 │ Tom Berenger         │ actor   │ Browning                │   8 │\n",
      "├───────────┼────────┼──────────────────────┼─────────┼─────────────────────────┼─────┤\n",
      "│ Inception │   2010 │ Virgile Bramly       │ actor   │ Bridge Sub Con          │  29 │\n",
      "├───────────┼────────┼──────────────────────┼─────────┼─────────────────────────┼─────┤\n",
      "│ Inception │   2010 │ Michael Caine        │ actor   │ Miles                   │  11 │\n",
      "├───────────┼────────┼──────────────────────┼─────────┼─────────────────────────┼─────┤\n",
      "│ Inception │   2010 │ Earl Cameron         │ actor   │ Elderly Bald Man        │  20 │\n",
      "├───────────┼────────┼──────────────────────┼─────────┼─────────────────────────┼─────┤\n",
      "│ Inception │   2010 │ Nicolas Clerc        │ actor   │ Bridge Sub Con          │  26 │\n",
      "├───────────┼────────┼──────────────────────┼─────────┼─────────────────────────┼─────┤\n",
      "│ Inception │   2010 │ Adam (IV) Cole       │ actor   │ Bar Sub Con             │  34 │\n",
      "├───────────┼────────┼──────────────────────┼─────────┼─────────────────────────┼─────┤\n",
      "│ Inception │   2010 │ Jean-Michel Dagory   │ actor   │ Bridge Sub Con          │  30 │\n",
      "├───────────┼────────┼──────────────────────┼─────────┼─────────────────────────┼─────┤\n",
      "│ Inception │   2010 │ Leonardo DiCaprio    │ actor   │ Cobb                    │   1 │\n",
      "├───────────┼────────┼──────────────────────┼─────────┼─────────────────────────┼─────┤\n",
      "│ Inception │   2010 │ Russ Fega            │ actor   │ Cab Driver              │  23 │\n",
      "├───────────┼────────┼──────────────────────┼─────────┼─────────────────────────┼─────┤\n",
      "│ Inception │   2010 │ Mark Fleischmann     │ actor   │ Penrose Sub Con         │  32 │\n",
      "├───────────┼────────┼──────────────────────┼─────────┼─────────────────────────┼─────┤\n",
      "│ Inception │   2010 │ Michael Gaston       │ actor   │ Immigration Officer     │  45 │\n",
      "├───────────┼────────┼──────────────────────┼─────────┼─────────────────────────┼─────┤\n",
      "│ Inception │   2010 │ Johnathan Geare      │ actor   │ James (3 years)         │  17 │\n",
      "├───────────┼────────┼──────────────────────┼─────────┼─────────────────────────┼─────┤\n",
      "│ Inception │   2010 │ Carl Gilliard        │ actor   │ Lobby Sub Con           │  40 │\n",
      "├───────────┼────────┼──────────────────────┼─────────┼─────────────────────────┼─────┤\n",
      "│ Inception │   2010 │ Jack Gilroy          │ actor   │ Old Cobb                │  50 │\n",
      "├───────────┼────────┼──────────────────────┼─────────┼─────────────────────────┼─────┤\n",
      "│ Inception │   2010 │ Joseph Gordon-Levitt │ actor   │ Arthur                  │   2 │\n",
      "├───────────┼────────┼──────────────────────┼─────────┼─────────────────────────┼─────┤\n",
      "│ Inception │   2010 │ Lukas Haas           │ actor   │ Nash                    │  12 │\n",
      "├───────────┼────────┼──────────────────────┼─────────┼─────────────────────────┼─────┤\n",
      "│ Inception │   2010 │ Tom Hardy            │ actor   │ Eames                   │   4 │\n",
      "├───────────┼────────┼──────────────────────┼─────────┼─────────────────────────┼─────┤\n",
      "│ Inception │   2010 │ Ryan Hayward         │ actor   │ Lawyer                  │  21 │\n",
      "├───────────┼────────┼──────────────────────┼─────────┼─────────────────────────┼─────┤\n",
      "│ Inception │   2010 │ Tim Kelleher         │ actor   │ Thin Man                │  24 │\n",
      "├───────────┼────────┼──────────────────────┼─────────┼─────────────────────────┼─────┤\n",
      "│ Inception │   2010 │ Tai-Li Lee           │ actor   │ Tadashi                 │  13 │\n",
      "├───────────┼────────┼──────────────────────┼─────────┼─────────────────────────┼─────┤\n",
      "│ Inception │   2010 │ Tohoru Masamune      │ actor   │ Japanese Security Guard │  18 │\n",
      "├───────────┼────────┼──────────────────────┼─────────┼─────────────────────────┼─────┤\n",
      "│ Inception │   2010 │ Cillian Murphy       │ actor   │ Robert Fischer          │   7 │\n",
      "├───────────┼────────┼──────────────────────┼─────────┼─────────────────────────┼─────┤\n",
      "│ Inception │   2010 │ Jack (III) Murray    │ actor   │ Bar Sub Con             │  35 │\n",
      "├───────────┼────────┼──────────────────────┼─────────┼─────────────────────────┼─────┤\n",
      "│ Inception │   2010 │ Magnus Nolan         │ actor   │ James (20 months)       │  15 │\n",
      "├───────────┼────────┼──────────────────────┼─────────┼─────────────────────────┼─────┤\n",
      "│ Inception │   2010 │ Yuji Okumoto         │ actor   │ Saito's Attendant       │  19 │\n",
      "├───────────┼────────┼──────────────────────┼─────────┼─────────────────────────┼─────┤\n",
      "│ Inception │   2010 │ Andrew Pleavin       │ actor   │ Businessman             │  47 │\n",
      "├───────────┼────────┼──────────────────────┼─────────┼─────────────────────────┼─────┤\n",
      "│ Inception │   2010 │ Pete Postlethwaite   │ actor   │ Maurice Fischer         │  10 │\n",
      "├───────────┼────────┼──────────────────────┼─────────┼─────────────────────────┼─────┤\n",
      "│ Inception │   2010 │ Marc Raducci         │ actor   │ Lobby Sub Con           │  39 │\n",
      "├───────────┼────────┼──────────────────────┼─────────┼─────────────────────────┼─────┤\n",
      "│ Inception │   2010 │ Dileep Rao           │ actor   │ Yusuf                   │   6 │\n",
      "├───────────┼────────┼──────────────────────┼─────────┼─────────────────────────┼─────┤\n",
      "│ Inception │   2010 │ Felix Scott          │ actor   │ Businessman             │  46 │\n",
      "├───────────┼────────┼──────────────────────┼─────────┼─────────────────────────┼─────┤\n",
      "│ Inception │   2010 │ Jason Tendell        │ actor   │ Fischer's Driver        │  49 │\n",
      "├───────────┼────────┼──────────────────────┼─────────┼─────────────────────────┼─────┤\n",
      "│ Inception │   2010 │ Kraig Thornber       │ actor   │ Bar Sub Con             │  36 │\n",
      "├───────────┼────────┼──────────────────────┼─────────┼─────────────────────────┼─────┤\n",
      "│ Inception │   2010 │ Ken Watanabe         │ actor   │ Saito                   │   5 │\n",
      "├───────────┼────────┼──────────────────────┼─────────┼─────────────────────────┼─────┤\n",
      "│ Inception │   2010 │ Natasha Beaumont     │ actress │ Bar Sub Con             │  38 │\n",
      "├───────────┼────────┼──────────────────────┼─────────┼─────────────────────────┼─────┤\n",
      "│ Inception │   2010 │ Marion Cotillard     │ actress │ Mal                     │   9 │\n",
      "├───────────┼────────┼──────────────────────┼─────────┼─────────────────────────┼─────┤\n",
      "│ Inception │   2010 │ Helena Cullinan      │ actress │ Penrose Sub Con         │  31 │\n",
      "├───────────┼────────┼──────────────────────┼─────────┼─────────────────────────┼─────┤\n",
      "│ Inception │   2010 │ Coralie Dedykere     │ actress │ Bridge Sub Con          │  27 │\n",
      "├───────────┼────────┼──────────────────────┼─────────┼─────────────────────────┼─────┤\n",
      "│ Inception │   2010 │ Claire Geare         │ actress │ Phillipa (3 years)      │  14 │\n",
      "├───────────┼────────┼──────────────────────┼─────────┼─────────────────────────┼─────┤\n",
      "│ Inception │   2010 │ Taylor Geare         │ actress │ Phillipa (5 years)      │  16 │\n",
      "├───────────┼────────┼──────────────────────┼─────────┼─────────────────────────┼─────┤\n",
      "│ Inception │   2010 │ Silvie Laguna        │ actress │ Bridge Sub Con          │  28 │\n",
      "├───────────┼────────┼──────────────────────┼─────────┼─────────────────────────┼─────┤\n",
      "│ Inception │   2010 │ Shelley Lang         │ actress │ Penrose Sub Con         │  33 │\n",
      "├───────────┼────────┼──────────────────────┼─────────┼─────────────────────────┼─────┤\n",
      "│ Inception │   2010 │ Alex (II) Lombard    │ actress │ Lobby Sub Con           │  42 │\n",
      "├───────────┼────────┼──────────────────────┼─────────┼─────────────────────────┼─────┤\n",
      "│ Inception │   2010 │ Jill Maddrell        │ actress │ Lobby Sub Con           │  41 │\n",
      "├───────────┼────────┼──────────────────────┼─────────┼─────────────────────────┼─────┤\n",
      "│ Inception │   2010 │ Angela Nathenson     │ actress │ Bar Sub Con             │  37 │\n",
      "├───────────┼────────┼──────────────────────┼─────────┼─────────────────────────┼─────┤\n",
      "│ Inception │   2010 │ Miranda Nolan        │ actress │ Flight Attendant        │  22 │\n",
      "├───────────┼────────┼──────────────────────┼─────────┼─────────────────────────┼─────┤\n",
      "│ Inception │   2010 │ Ellen Page           │ actress │ Ariadne                 │   3 │\n",
      "├───────────┼────────┼──────────────────────┼─────────┼─────────────────────────┼─────┤\n",
      "│ Inception │   2010 │ Nicole Pulliam       │ actress │ Lobby Sub Con           │  43 │\n",
      "├───────────┼────────┼──────────────────────┼─────────┼─────────────────────────┼─────┤\n",
      "│ Inception │   2010 │ Lisa (II) Reynolds   │ actress │ Private Nurse           │  48 │\n",
      "├───────────┼────────┼──────────────────────┼─────────┼─────────────────────────┼─────┤\n",
      "│ Inception │   2010 │ Talulah Riley        │ actress │ Blonde                  │  25 │\n",
      "├───────────┼────────┼──────────────────────┼─────────┼─────────────────────────┼─────┤\n",
      "│ Inception │   2010 │ Shannon Welles       │ actress │ Old Mal                 │  51 │\n",
      "╘═══════════╧════════╧══════════════════════╧═════════╧═════════════════════════╧═════╛\n",
      "the no of main cast for the Inception movie are : 51\n"
     ]
    }
   ],
   "source": [
    "df_cast_inception_main = df_cast_inception[~df_cast_inception.n.isnull()]\n",
    "print(tabulate(df_cast_inception_main, headers='keys', tablefmt='fancy_grid', showindex=False))\n",
    "main_cast = len(df_cast_inception_main)\n",
    "print(f'the no of main cast for the Inception movie are : {main_cast}')"
   ]
  },
  {
   "cell_type": "markdown",
   "metadata": {},
   "source": [
    "### Section I - Q8: Show the top ten cast (actors\\actresses) in the movie \"Inception\" \n",
    "- support cast always have an 'n' value\n",
    "- remember to sort!"
   ]
  },
  {
   "cell_type": "code",
   "execution_count": 22,
   "metadata": {},
   "outputs": [
    {
     "name": "stdout",
     "output_type": "stream",
     "text": [
      "╒═══════════╤════════╤══════════════════════╤═════════╤═════════════════╤═════╕\n",
      "│ title     │   year │ name                 │ type    │ character       │   n │\n",
      "╞═══════════╪════════╪══════════════════════╪═════════╪═════════════════╪═════╡\n",
      "│ Inception │   2010 │ Leonardo DiCaprio    │ actor   │ Cobb            │   1 │\n",
      "├───────────┼────────┼──────────────────────┼─────────┼─────────────────┼─────┤\n",
      "│ Inception │   2010 │ Joseph Gordon-Levitt │ actor   │ Arthur          │   2 │\n",
      "├───────────┼────────┼──────────────────────┼─────────┼─────────────────┼─────┤\n",
      "│ Inception │   2010 │ Ellen Page           │ actress │ Ariadne         │   3 │\n",
      "├───────────┼────────┼──────────────────────┼─────────┼─────────────────┼─────┤\n",
      "│ Inception │   2010 │ Tom Hardy            │ actor   │ Eames           │   4 │\n",
      "├───────────┼────────┼──────────────────────┼─────────┼─────────────────┼─────┤\n",
      "│ Inception │   2010 │ Ken Watanabe         │ actor   │ Saito           │   5 │\n",
      "├───────────┼────────┼──────────────────────┼─────────┼─────────────────┼─────┤\n",
      "│ Inception │   2010 │ Dileep Rao           │ actor   │ Yusuf           │   6 │\n",
      "├───────────┼────────┼──────────────────────┼─────────┼─────────────────┼─────┤\n",
      "│ Inception │   2010 │ Cillian Murphy       │ actor   │ Robert Fischer  │   7 │\n",
      "├───────────┼────────┼──────────────────────┼─────────┼─────────────────┼─────┤\n",
      "│ Inception │   2010 │ Tom Berenger         │ actor   │ Browning        │   8 │\n",
      "├───────────┼────────┼──────────────────────┼─────────┼─────────────────┼─────┤\n",
      "│ Inception │   2010 │ Marion Cotillard     │ actress │ Mal             │   9 │\n",
      "├───────────┼────────┼──────────────────────┼─────────┼─────────────────┼─────┤\n",
      "│ Inception │   2010 │ Pete Postlethwaite   │ actor   │ Maurice Fischer │  10 │\n",
      "╘═══════════╧════════╧══════════════════════╧═════════╧═════════════════╧═════╛\n"
     ]
    }
   ],
   "source": [
    "df_cast_inception_main_sort = df_cast_inception_main.sort_values(by=['n'])\n",
    "print(tabulate(df_cast_inception_main_sort.head(10), headers='keys', tablefmt='fancy_grid', showindex=False))\n"
   ]
  },
  {
   "cell_type": "markdown",
   "metadata": {},
   "source": [
    "### Section I - Q9:\n",
    "\n",
    "(A) List all movies where there was a character 'Albus Dumbledore' \n",
    "\n",
    "(B) Now modify the above to show only the actors who played the character 'Albus Dumbledore'\n",
    "- For Part (B) remember the same actor might play the same role in multiple movies"
   ]
  },
  {
   "cell_type": "code",
   "execution_count": 23,
   "metadata": {},
   "outputs": [
    {
     "name": "stdout",
     "output_type": "stream",
     "text": [
      "╒══════════════════════════════════════════════╕\n",
      "│ Movie Title                                  │\n",
      "╞══════════════════════════════════════════════╡\n",
      "│ Epic Movie                                   │\n",
      "├──────────────────────────────────────────────┤\n",
      "│ Harry Potter and the Chamber of Secrets      │\n",
      "├──────────────────────────────────────────────┤\n",
      "│ Harry Potter and the Deathly Hallows: Part 1 │\n",
      "├──────────────────────────────────────────────┤\n",
      "│ Harry Potter and the Deathly Hallows: Part 2 │\n",
      "├──────────────────────────────────────────────┤\n",
      "│ Harry Potter and the Goblet of Fire          │\n",
      "├──────────────────────────────────────────────┤\n",
      "│ Harry Potter and the Half-Blood Prince       │\n",
      "├──────────────────────────────────────────────┤\n",
      "│ Harry Potter and the Order of the Phoenix    │\n",
      "├──────────────────────────────────────────────┤\n",
      "│ Harry Potter and the Prisoner of Azkaban     │\n",
      "├──────────────────────────────────────────────┤\n",
      "│ Harry Potter and the Sorcerer's Stone        │\n",
      "├──────────────────────────────────────────────┤\n",
      "│ Potter                                       │\n",
      "├──────────────────────────────────────────────┤\n",
      "│ Ultimate Hero Project                        │\n",
      "╘══════════════════════════════════════════════╛\n"
     ]
    }
   ],
   "source": [
    "#(A) List all movies where there was a character 'Albus Dumbledore'\n",
    "movies_character_albus_df = cast[cast.character.str.contains('Albus Dumbledore', case= False)]\n",
    "movies_title_character_albus_df = movies_character_albus_df[['title']].copy()\n",
    "movies_unique_title_character_albus_df = pd.DataFrame(movies_title_character_albus_df['title'].unique())\n",
    "\n",
    "movies_unique_title_character_albus_sorted_df = movies_unique_title_character_albus_df.sort_values(by=[0])\n",
    "print(tabulate(movies_unique_title_character_albus_sorted_df, headers=['Movie Title'], tablefmt='fancy_grid', showindex=False))\n",
    "\n"
   ]
  },
  {
   "cell_type": "code",
   "execution_count": 24,
   "metadata": {},
   "outputs": [
    {
     "name": "stdout",
     "output_type": "stream",
     "text": [
      "╒═════════════════════╕\n",
      "│ Actor Name          │\n",
      "╞═════════════════════╡\n",
      "│ Dane Farwell        │\n",
      "├─────────────────────┤\n",
      "│ George (X) O'Connor │\n",
      "├─────────────────────┤\n",
      "│ Michael Gambon      │\n",
      "├─────────────────────┤\n",
      "│ Richard Harris      │\n",
      "├─────────────────────┤\n",
      "│ Timothy Tedmanson   │\n",
      "├─────────────────────┤\n",
      "│ Toby Regbo          │\n",
      "╘═════════════════════╛\n"
     ]
    }
   ],
   "source": [
    "#(B) Now modify the above to show only the actors who played the character 'Albus Dumbledore'\n",
    "movies_actor_character_albus_df = movies_character_albus_df[['name']].copy()\n",
    "movies_actor_unique_character_albus_df = pd.DataFrame(movies_actor_character_albus_df['name'].unique())\n",
    "movies_actor_unique_sort_character_albus_df = movies_actor_unique_character_albus_df.sort_values(by=[0])\n",
    "\n",
    "print(tabulate(movies_actor_unique_sort_character_albus_df, headers=['Actor Name'], tablefmt='fancy_grid', showindex=False))\n"
   ]
  },
  {
   "cell_type": "markdown",
   "metadata": {},
   "source": [
    "### Section I - Q10:\n",
    "\n",
    "(A) How many roles has 'Keanu Reeves' played throughout his career?\n",
    "\n",
    "(B) List the leading roles that 'Keanu Reeves' played on or after 1999 in order by year."
   ]
  },
  {
   "cell_type": "code",
   "execution_count": 25,
   "metadata": {},
   "outputs": [
    {
     "name": "stdout",
     "output_type": "stream",
     "text": [
      "The no of roles that Keanu Reeves has played are : 56\n",
      "╒══════════════════════╕\n",
      "│ Roles                │\n",
      "╞══════════════════════╡\n",
      "│ Alex Wyler           │\n",
      "├──────────────────────┤\n",
      "│ Bob Arctor           │\n",
      "├──────────────────────┤\n",
      "│ Chevalier Danceny    │\n",
      "├──────────────────────┤\n",
      "│ Chris Nadeau         │\n",
      "├──────────────────────┤\n",
      "│ Chris Townsend       │\n",
      "├──────────────────────┤\n",
      "│ Conor O'Neill        │\n",
      "├──────────────────────┤\n",
      "│ Detective Galban     │\n",
      "├──────────────────────┤\n",
      "│ Detective Tom Ludlow │\n",
      "├──────────────────────┤\n",
      "│ Dogstar              │\n",
      "├──────────────────────┤\n",
      "│ Don John             │\n",
      "├──────────────────────┤\n",
      "│ Donaka Mark          │\n",
      "├──────────────────────┤\n",
      "│ Donnie Barksdale     │\n",
      "├──────────────────────┤\n",
      "│ Dr. Beckham          │\n",
      "├──────────────────────┤\n",
      "│ Eddie Kasalivich     │\n",
      "├──────────────────────┤\n",
      "│ Evan                 │\n",
      "├──────────────────────┤\n",
      "│ Griffin              │\n",
      "├──────────────────────┤\n",
      "│ Hank                 │\n",
      "├──────────────────────┤\n",
      "│ Harry                │\n",
      "├──────────────────────┤\n",
      "│ Heaver               │\n",
      "├──────────────────────┤\n",
      "│ Henry Torne          │\n",
      "├──────────────────────┤\n",
      "│ Himself              │\n",
      "├──────────────────────┤\n",
      "│ Jack Traven          │\n",
      "├──────────────────────┤\n",
      "│ Jjaks Clayton        │\n",
      "├──────────────────────┤\n",
      "│ John                 │\n",
      "├──────────────────────┤\n",
      "│ John Constantine     │\n",
      "├──────────────────────┤\n",
      "│ John Wick            │\n",
      "├──────────────────────┤\n",
      "│ Johnny Mnemonic      │\n",
      "├──────────────────────┤\n",
      "│ Johnny Utah          │\n",
      "├──────────────────────┤\n",
      "│ Jonathan Harker      │\n",
      "├──────────────────────┤\n",
      "│ Julian Gitche        │\n",
      "├──────────────────────┤\n",
      "│ Julian Mercer        │\n",
      "├──────────────────────┤\n",
      "│ Kai                  │\n",
      "├──────────────────────┤\n",
      "│ Keanu                │\n",
      "├──────────────────────┤\n",
      "│ Keanu Reeves         │\n",
      "├──────────────────────┤\n",
      "│ Kevin Lomax          │\n",
      "├──────────────────────┤\n",
      "│ Klaatu               │\n",
      "├──────────────────────┤\n",
      "│ Lucas Hill           │\n",
      "├──────────────────────┤\n",
      "│ Marlon               │\n",
      "├──────────────────────┤\n",
      "│ Martin Loader        │\n",
      "├──────────────────────┤\n",
      "│ Matt                 │\n",
      "├──────────────────────┤\n",
      "│ Nelson Moss          │\n",
      "├──────────────────────┤\n",
      "│ Neo                  │\n",
      "├──────────────────────┤\n",
      "│ Ortiz the Dog Boy    │\n",
      "├──────────────────────┤\n",
      "│ Paul Sutton          │\n",
      "├──────────────────────┤\n",
      "│ Perry Lyman          │\n",
      "├──────────────────────┤\n",
      "│ Ramsey               │\n",
      "├──────────────────────┤\n",
      "│ Ron Petrie           │\n",
      "├──────────────────────┤\n",
      "│ Rupert Marshetta     │\n",
      "├──────────────────────┤\n",
      "│ Scott Favor          │\n",
      "├──────────────────────┤\n",
      "│ Shane Falco          │\n",
      "├──────────────────────┤\n",
      "│ Siddhartha           │\n",
      "├──────────────────────┤\n",
      "│ Ted                  │\n",
      "├──────────────────────┤\n",
      "│ The Dream            │\n",
      "├──────────────────────┤\n",
      "│ Tod                  │\n",
      "├──────────────────────┤\n",
      "│ Tommy Warneki        │\n",
      "├──────────────────────┤\n",
      "│ Winston Connelly     │\n",
      "╘══════════════════════╛\n"
     ]
    }
   ],
   "source": [
    "#(A) How many roles has 'Keanu Reeves' played throughout his career?\n",
    "cast_keanu_df = cast[cast.name.str.contains('Keanu Reeves', case=False)]\n",
    "cast_keanu_unique_df = pd.DataFrame(cast_keanu_df['character'].unique())\n",
    "cast_keanu_unique_sort_df = cast_keanu_unique_df.sort_values(by=[0])\n",
    "no_of_roles = len(cast_keanu_unique_sort_df)\n",
    "print(f'The no of roles that Keanu Reeves has played are : {no_of_roles}')\n",
    "print(tabulate(cast_keanu_unique_sort_df, headers=['Roles'], tablefmt='fancy_grid', showindex=False))\n"
   ]
  },
  {
   "cell_type": "code",
   "execution_count": 26,
   "metadata": {},
   "outputs": [
    {
     "name": "stdout",
     "output_type": "stream",
     "text": [
      "╒════════╤══════════════════════╕\n",
      "│   Year │ Character            │\n",
      "╞════════╪══════════════════════╡\n",
      "│   1999 │ Neo                  │\n",
      "├────────┼──────────────────────┤\n",
      "│   2000 │ Shane Falco          │\n",
      "├────────┼──────────────────────┤\n",
      "│   2001 │ Conor O'Neill        │\n",
      "├────────┼──────────────────────┤\n",
      "│   2001 │ Nelson Moss          │\n",
      "├────────┼──────────────────────┤\n",
      "│   2005 │ John Constantine     │\n",
      "├────────┼──────────────────────┤\n",
      "│   2006 │ Alex Wyler           │\n",
      "├────────┼──────────────────────┤\n",
      "│   2008 │ Detective Tom Ludlow │\n",
      "├────────┼──────────────────────┤\n",
      "│   2008 │ Klaatu               │\n",
      "├────────┼──────────────────────┤\n",
      "│   2010 │ Henry Torne          │\n",
      "├────────┼──────────────────────┤\n",
      "│   2013 │ Kai                  │\n",
      "├────────┼──────────────────────┤\n",
      "│   2014 │ John Wick            │\n",
      "├────────┼──────────────────────┤\n",
      "│   2015 │ Evan                 │\n",
      "├────────┼──────────────────────┤\n",
      "│   2016 │ Ramsey               │\n",
      "├────────┼──────────────────────┤\n",
      "│   2017 │ John Wick            │\n",
      "├────────┼──────────────────────┤\n",
      "│   2018 │ Lucas Hill           │\n",
      "╘════════╧══════════════════════╛\n"
     ]
    }
   ],
   "source": [
    "#(B) List the leading roles that 'Keanu Reeves' played on or after 1999 in order by year.\n",
    "cast_keanu_lead_df = cast_keanu_df[(cast_keanu_df.n==1.0) & (cast_keanu_df.year >= 1999)]\n",
    "\n",
    "cast_keanu_lead_sort_df = cast_keanu_lead_df.sort_values(by=['year'])\n",
    "\n",
    "print(tabulate(cast_keanu_lead_sort_df[['year','character']], headers=['Year','Character'], tablefmt='fancy_grid', showindex=False))"
   ]
  },
  {
   "cell_type": "markdown",
   "metadata": {},
   "source": [
    "### Section I - Q11: \n",
    "\n",
    "(A) List the total number of actor and actress roles available from 1950 - 1960\n",
    "\n",
    "(B) List the total number of actor and actress roles available from 2007 - 2017"
   ]
  },
  {
   "cell_type": "code",
   "execution_count": 27,
   "metadata": {},
   "outputs": [
    {
     "name": "stdout",
     "output_type": "stream",
     "text": [
      "the no of roles available from 1950 to 1960 are : 234635\n"
     ]
    }
   ],
   "source": [
    "#(A) List the total number of actor and actress roles available from 1950 - 1960\n",
    "roles_1950_to_1960 = len(cast[((cast.type == 'actor') | (cast.type == 'actress')) & ((cast.year >= 1950) & (cast.year <= 1960))])\n",
    "print(f'the no of roles available from 1950 to 1960 are : {roles_1950_to_1960}')"
   ]
  },
  {
   "cell_type": "code",
   "execution_count": 28,
   "metadata": {},
   "outputs": [
    {
     "name": "stdout",
     "output_type": "stream",
     "text": [
      "the no of roles available from 2007 to 2017 are : 1452413\n"
     ]
    }
   ],
   "source": [
    "#(B) List the total number of actor and actress roles available from 2007 - 2017\n",
    "roles_2007_to_2017 = len(cast[((cast.type == 'actor') | (cast.type == 'actress')) & ((cast.year >= 2007) & (cast.year <= 2017))])\n",
    "print(f'the no of roles available from 2007 to 2017 are : {roles_2007_to_2017}')"
   ]
  },
  {
   "cell_type": "markdown",
   "metadata": {},
   "source": [
    "### Section I - Q12: \n",
    "\n",
    "(A) List the total number of leading roles available from 2000 to present\n",
    "\n",
    "(B) List the total number of non-leading roles available from 2000 - present (exclude support cast)\n",
    "\n",
    "(C) List the total number of support\\extra-credit roles available from 2000 - present"
   ]
  },
  {
   "cell_type": "code",
   "execution_count": 29,
   "metadata": {},
   "outputs": [
    {
     "name": "stdout",
     "output_type": "stream",
     "text": [
      "the total no of lead roles after year 2000 are : 60568\n"
     ]
    }
   ],
   "source": [
    "#(A) List the total number of leading roles available from 2000 to present\n",
    "cast_lead_2000_df = cast[(cast.n == 1) & (cast.year >= 2000)]\n",
    "lead_role_2000_count = len(cast_lead_2000_df)\n",
    "print(f'the total no of lead roles after year 2000 are : {lead_role_2000_count}')"
   ]
  },
  {
   "cell_type": "code",
   "execution_count": 30,
   "metadata": {},
   "outputs": [
    {
     "name": "stdout",
     "output_type": "stream",
     "text": [
      "the total no of non lead roles are : 1001710\n"
     ]
    }
   ],
   "source": [
    "#(B) List the total number of non-leading roles available from 2000 - present (exclude support cast)\n",
    "cast_non_lead_2000_df = cast[(cast.n > 1) & (cast.year >= 2000)]\n",
    "cast_non_lead_2000_count = len(cast_non_lead_2000_df)\n",
    "print(f'the total no of non lead roles are : {cast_non_lead_2000_count}')"
   ]
  },
  {
   "cell_type": "code",
   "execution_count": 31,
   "metadata": {},
   "outputs": [
    {
     "name": "stdout",
     "output_type": "stream",
     "text": [
      "the no of support/extra credit roles are : 887484\n"
     ]
    }
   ],
   "source": [
    "#(C) List the total number of support\\extra-credit roles available from 2000 - present\n",
    "cast_support_extra_2000_df = cast[(cast.n.isnull()) & (cast.year >= 2000)]\n",
    "cast_support_extra_2000_count = len(cast_support_extra_2000_df)\n",
    "print(f'the no of support/extra credit roles are : {cast_support_extra_2000_count}')"
   ]
  },
  {
   "cell_type": "markdown",
   "metadata": {},
   "source": [
    "# Section II - Aggregations, Transformations and Visualizations"
   ]
  },
  {
   "cell_type": "markdown",
   "metadata": {},
   "source": [
    "## What are the top ten most common movie names of all time?\n"
   ]
  },
  {
   "cell_type": "code",
   "execution_count": 32,
   "metadata": {},
   "outputs": [
    {
     "data": {
      "text/plain": [
       "Hamlet                  20\n",
       "Carmen                  17\n",
       "Macbeth                 16\n",
       "The Outsider            12\n",
       "Temptation              12\n",
       "Maya                    12\n",
       "Freedom                 11\n",
       "The Three Musketeers    11\n",
       "Honeymoon               11\n",
       "Othello                 11\n",
       "Name: title, dtype: int64"
      ]
     },
     "execution_count": 32,
     "metadata": {},
     "output_type": "execute_result"
    }
   ],
   "source": [
    "top_ten = movies.title.value_counts()[:10]\n",
    "top_ten"
   ]
  },
  {
   "cell_type": "markdown",
   "metadata": {},
   "source": [
    "### Plot the top ten common movie names of all time"
   ]
  },
  {
   "cell_type": "code",
   "execution_count": 33,
   "metadata": {},
   "outputs": [
    {
     "data": {
      "text/plain": [
       "<matplotlib.axes._subplots.AxesSubplot at 0x7f40de452a90>"
      ]
     },
     "execution_count": 33,
     "metadata": {},
     "output_type": "execute_result"
    },
    {
     "data": {
      "image/png": "[encoded data removed]",
      "text/plain": [
       "<Figure size 432x288 with 1 Axes>"
      ]
     },
     "metadata": {},
     "output_type": "display_data"
    }
   ],
   "source": [
    "top_ten.plot(kind='barh')"
   ]
  },
  {
   "cell_type": "markdown",
   "metadata": {},
   "source": [
    "### Section II - Q1:  Which years in the 2000s saw the most movies released? (Show top 3)"
   ]
  },
  {
   "cell_type": "code",
   "execution_count": 34,
   "metadata": {},
   "outputs": [
    {
     "data": {
      "text/html": [
       "<div>\n",
       "<style scoped>\n",
       "    .dataframe tbody tr th:only-of-type {\n",
       "        vertical-align: middle;\n",
       "    }\n",
       "\n",
       "    .dataframe tbody tr th {\n",
       "        vertical-align: top;\n",
       "    }\n",
       "\n",
       "    .dataframe thead th {\n",
       "        text-align: right;\n",
       "    }\n",
       "</style>\n",
       "<table border=\"1\" class=\"dataframe\">\n",
       "  <thead>\n",
       "    <tr style=\"text-align: right;\">\n",
       "      <th></th>\n",
       "      <th>Count</th>\n",
       "    </tr>\n",
       "    <tr>\n",
       "      <th>year</th>\n",
       "      <th></th>\n",
       "    </tr>\n",
       "  </thead>\n",
       "  <tbody>\n",
       "    <tr>\n",
       "      <th>2009</th>\n",
       "      <td>6125</td>\n",
       "    </tr>\n",
       "    <tr>\n",
       "      <th>2008</th>\n",
       "      <td>5151</td>\n",
       "    </tr>\n",
       "    <tr>\n",
       "      <th>2007</th>\n",
       "      <td>4467</td>\n",
       "    </tr>\n",
       "  </tbody>\n",
       "</table>\n",
       "</div>"
      ],
      "text/plain": [
       "      Count\n",
       "year       \n",
       "2009   6125\n",
       "2008   5151\n",
       "2007   4467"
      ]
     },
     "execution_count": 34,
     "metadata": {},
     "output_type": "execute_result"
    }
   ],
   "source": [
    "movies_group_by_df = movies.groupby('year').count()\n",
    "movies_2000_sorted_df = movies_group_by_df.loc[2000:2009].sort_values(by=['title'], ascending=False).iloc[0:3]\n",
    "movies_2000_sorted_df.rename(columns = {'title': 'Count'},  inplace = True)\n",
    "movies_2000_sorted_df"
   ]
  },
  {
   "cell_type": "markdown",
   "metadata": {},
   "source": [
    "### Section II - Q2: # Plot the total number of films released per-decade (1890, 1900, 1910,....)\n",
    "- Hint: Dividing the year and multiplying with a number might give you the decade the year falls into!\n",
    "- You might need to sort before plotting"
   ]
  },
  {
   "cell_type": "code",
   "execution_count": 105,
   "metadata": {},
   "outputs": [
    {
     "name": "stdout",
     "output_type": "stream",
     "text": [
      "      title\n",
      "year       \n",
      "1890      3\n",
      "1900     39\n",
      "1910   6799\n",
      "1920   9034\n",
      "1930  10388\n",
      "1940   8718\n",
      "1950  12934\n",
      "1960  17976\n",
      "1970  19526\n",
      "1980  21034\n",
      "1990  22992\n",
      "2000  39452\n",
      "2010  75733\n",
      "2020    285\n",
      "2110      1\n"
     ]
    },
    {
     "data": {
      "text/plain": [
       "<matplotlib.axes._subplots.AxesSubplot at 0x7f40bce4a630>"
      ]
     },
     "execution_count": 105,
     "metadata": {},
     "output_type": "execute_result"
    },
    {
     "data": {
      "image/png": "[encoded data removed]",
      "text/plain": [
       "<Figure size 1440x1080 with 1 Axes>"
      ]
     },
     "metadata": {},
     "output_type": "display_data"
    }
   ],
   "source": [
    "movies_by_decade = movies_group_by_df.groupby((movies_group_by_df.index//10)*10).sum()\n",
    "\n",
    "list_of_years = list(movies_by_decade.index)\n",
    "print(movies_by_decade)\n",
    "movies_by_decade.plot(kind='bar',figsize = (20,15))"
   ]
  },
  {
   "cell_type": "markdown",
   "metadata": {},
   "source": [
    "### Section II - Q3: \n",
    "\n",
    "(A) What are the top 10 most common character names in movie history?\n",
    "\n",
    "(B) Who are the top 10 people most often credited as \"Herself\" in movie history?\n",
    "\n",
    "(C) Who are the top 10 people most often credited as \"Himself\" in movie history?"
   ]
  },
  {
   "cell_type": "code",
   "execution_count": 36,
   "metadata": {},
   "outputs": [
    {
     "name": "stdout",
     "output_type": "stream",
     "text": [
      "╒═════════════╤═════════╕\n",
      "│ Character   │   Count │\n",
      "╞═════════════╪═════════╡\n",
      "│ Himself     │   20746 │\n",
      "├─────────────┼─────────┤\n",
      "│ Dancer      │   12477 │\n",
      "├─────────────┼─────────┤\n",
      "│ Extra       │   11948 │\n",
      "├─────────────┼─────────┤\n",
      "│ Reporter    │    8434 │\n",
      "├─────────────┼─────────┤\n",
      "│ Student     │    7773 │\n",
      "├─────────────┼─────────┤\n",
      "│ Doctor      │    7669 │\n",
      "├─────────────┼─────────┤\n",
      "│ Party Guest │    7245 │\n",
      "├─────────────┼─────────┤\n",
      "│ Policeman   │    7029 │\n",
      "├─────────────┼─────────┤\n",
      "│ Nurse       │    6999 │\n",
      "├─────────────┼─────────┤\n",
      "│ Bartender   │    6802 │\n",
      "╘═════════════╧═════════╛\n"
     ]
    }
   ],
   "source": [
    "cast_character = pd.DataFrame(cast.character)\n",
    "cast_character_top_10_df = cast_character.groupby('character').size().reset_index(name='Count').sort_values(by=['Count'], ascending=False).iloc[0:10]\n",
    "print(tabulate(cast_character_top_10_df, headers=['Character','Count'], tablefmt='fancy_grid', showindex=False))\n"
   ]
  },
  {
   "cell_type": "code",
   "execution_count": 37,
   "metadata": {},
   "outputs": [
    {
     "name": "stdout",
     "output_type": "stream",
     "text": [
      "╒════════════════════════╤═════════╕\n",
      "│ Name                   │   Count │\n",
      "╞════════════════════════╪═════════╡\n",
      "│ Queen Elizabeth II     │      12 │\n",
      "├────────────────────────┼─────────┤\n",
      "│ Joyce Brothers         │       9 │\n",
      "├────────────────────────┼─────────┤\n",
      "│ Luisa Horga            │       9 │\n",
      "├────────────────────────┼─────────┤\n",
      "│ Mar?a Luisa (V) Mart?n │       9 │\n",
      "├────────────────────────┼─────────┤\n",
      "│ Hillary Clinton        │       8 │\n",
      "├────────────────────────┼─────────┤\n",
      "│ Margaret Thatcher      │       8 │\n",
      "├────────────────────────┼─────────┤\n",
      "│ In?s J. Southern       │       6 │\n",
      "├────────────────────────┼─────────┤\n",
      "│ Marta Berrocal         │       6 │\n",
      "├────────────────────────┼─────────┤\n",
      "│ Oprah Winfrey          │       6 │\n",
      "├────────────────────────┼─────────┤\n",
      "│ Marilyn Monroe         │       6 │\n",
      "╘════════════════════════╧═════════╛\n"
     ]
    }
   ],
   "source": [
    "cast_herself_df = cast[cast.character == 'Herself']\n",
    "cast_character_top_10_df = cast_herself_df.groupby('name').size().reset_index(name='Count').sort_values(by=['Count'], ascending=False).iloc[0:10]\n",
    "print(tabulate(cast_character_top_10_df, headers=['Name','Count'], tablefmt='fancy_grid', showindex=False))"
   ]
  },
  {
   "cell_type": "code",
   "execution_count": 38,
   "metadata": {},
   "outputs": [
    {
     "name": "stdout",
     "output_type": "stream",
     "text": [
      "╒═══════════════════════╤═════════╕\n",
      "│ Name                  │   Count │\n",
      "╞═══════════════════════╪═════════╡\n",
      "│ Adolf Hitler          │      99 │\n",
      "├───────────────────────┼─────────┤\n",
      "│ Richard Nixon         │      44 │\n",
      "├───────────────────────┼─────────┤\n",
      "│ Ronald Reagan         │      41 │\n",
      "├───────────────────────┼─────────┤\n",
      "│ John F. Kennedy       │      37 │\n",
      "├───────────────────────┼─────────┤\n",
      "│ George W. Bush        │      25 │\n",
      "├───────────────────────┼─────────┤\n",
      "│ Winston Churchill     │      24 │\n",
      "├───────────────────────┼─────────┤\n",
      "│ Martin Luther King    │      23 │\n",
      "├───────────────────────┼─────────┤\n",
      "│ Bill Clinton          │      22 │\n",
      "├───────────────────────┼─────────┤\n",
      "│ Ron Jeremy            │      22 │\n",
      "├───────────────────────┼─────────┤\n",
      "│ Franklin D. Roosevelt │      21 │\n",
      "╘═══════════════════════╧═════════╛\n"
     ]
    }
   ],
   "source": [
    "cast_herself_df = cast[cast.character == 'Himself']\n",
    "cast_character_top_10_df = cast_herself_df.groupby('name').size().reset_index(name='Count').sort_values(by=['Count'], ascending=False).iloc[0:10]\n",
    "print(tabulate(cast_character_top_10_df, headers=['Name','Count'], tablefmt='fancy_grid', showindex=False))"
   ]
  },
  {
   "cell_type": "markdown",
   "metadata": {},
   "source": [
    "### Section II - Q4: \n",
    "\n",
    "(A) What are the top 10 most frequent roles that start with the word \"Zombie\"?\n",
    "\n",
    "(B) What are the top 10 most frequent roles that start with the word \"Police\"?\n",
    "\n",
    "- Hint: The `startswith()` function might be useful"
   ]
  },
  {
   "cell_type": "code",
   "execution_count": 39,
   "metadata": {},
   "outputs": [
    {
     "name": "stdout",
     "output_type": "stream",
     "text": [
      "╒═════════════════════════════╤═════════╕\n",
      "│ Character                   │   Count │\n",
      "╞═════════════════════════════╪═════════╡\n",
      "│ Zombie                      │    6264 │\n",
      "├─────────────────────────────┼─────────┤\n",
      "│ Zombie Horde                │     206 │\n",
      "├─────────────────────────────┼─────────┤\n",
      "│ Zombie - Protestor - Victim │      78 │\n",
      "├─────────────────────────────┼─────────┤\n",
      "│ Zombie Extra                │      70 │\n",
      "├─────────────────────────────┼─────────┤\n",
      "│ Zombie Dancer               │      43 │\n",
      "├─────────────────────────────┼─────────┤\n",
      "│ Zombie Girl                 │      36 │\n",
      "├─────────────────────────────┼─────────┤\n",
      "│ Zombie #1                   │      36 │\n",
      "├─────────────────────────────┼─────────┤\n",
      "│ Zombie #2                   │      31 │\n",
      "├─────────────────────────────┼─────────┤\n",
      "│ Zombie Vampire              │      25 │\n",
      "├─────────────────────────────┼─────────┤\n",
      "│ Zombie Victim               │      22 │\n",
      "╘═════════════════════════════╧═════════╛\n"
     ]
    }
   ],
   "source": [
    "cast_zombie_df = cast[cast.character.str.startswith('Zombie')]\n",
    "cast_character_zombie_top_10_df = cast_zombie_df.groupby('character').size().reset_index(name='Count').sort_values(by=['Count'], ascending=False).iloc[0:10]\n",
    "print(tabulate(cast_character_zombie_top_10_df, headers=['Character','Count'], tablefmt='fancy_grid', showindex=False))"
   ]
  },
  {
   "cell_type": "code",
   "execution_count": 40,
   "metadata": {},
   "outputs": [
    {
     "name": "stdout",
     "output_type": "stream",
     "text": [
      "╒═════════════════════╤═════════╕\n",
      "│ Character           │   Count │\n",
      "╞═════════════════════╪═════════╡\n",
      "│ Policeman           │    7029 │\n",
      "├─────────────────────┼─────────┤\n",
      "│ Police Officer      │    4808 │\n",
      "├─────────────────────┼─────────┤\n",
      "│ Police Inspector    │     742 │\n",
      "├─────────────────────┼─────────┤\n",
      "│ Police Sergeant     │     674 │\n",
      "├─────────────────────┼─────────┤\n",
      "│ Police officer      │     539 │\n",
      "├─────────────────────┼─────────┤\n",
      "│ Police              │     456 │\n",
      "├─────────────────────┼─────────┤\n",
      "│ Policewoman         │     415 │\n",
      "├─────────────────────┼─────────┤\n",
      "│ Police Chief        │     410 │\n",
      "├─────────────────────┼─────────┤\n",
      "│ Police Captain      │     387 │\n",
      "├─────────────────────┼─────────┤\n",
      "│ Police Commissioner │     337 │\n",
      "╘═════════════════════╧═════════╛\n"
     ]
    }
   ],
   "source": [
    "cast_police_df = cast[cast.character.str.startswith('Police')]\n",
    "cast_character_police_top_10_df = cast_police_df.groupby('character').size().reset_index(name='Count').sort_values(by=['Count'], ascending=False).iloc[0:10]\n",
    "print(tabulate(cast_character_police_top_10_df, headers=['Character','Count'], tablefmt='fancy_grid', showindex=False))"
   ]
  },
  {
   "cell_type": "markdown",
   "metadata": {},
   "source": [
    "### Section II - Q5: Plot how many roles 'Keanu Reeves' has played in each year of his career."
   ]
  },
  {
   "cell_type": "code",
   "execution_count": 41,
   "metadata": {},
   "outputs": [
    {
     "name": "stdout",
     "output_type": "stream",
     "text": [
      "╒════════╤══════════════════════╕\n",
      "│   Year │ Character            │\n",
      "╞════════╪══════════════════════╡\n",
      "│   2013 │ Kai                  │\n",
      "├────────┼──────────────────────┤\n",
      "│   2006 │ Bob Arctor           │\n",
      "├────────┼──────────────────────┤\n",
      "│   1995 │ Paul Sutton          │\n",
      "├────────┼──────────────────────┤\n",
      "│   1991 │ Ted                  │\n",
      "├────────┼──────────────────────┤\n",
      "│   1989 │ Ted                  │\n",
      "├────────┼──────────────────────┤\n",
      "│   1996 │ Eddie Kasalivich     │\n",
      "├────────┼──────────────────────┤\n",
      "│   2005 │ John Constantine     │\n",
      "├────────┼──────────────────────┤\n",
      "│   1988 │ Chevalier Danceny    │\n",
      "├────────┼──────────────────────┤\n",
      "│   1992 │ Jonathan Harker      │\n",
      "├────────┼──────────────────────┤\n",
      "│   2005 │ Dogstar              │\n",
      "├────────┼──────────────────────┤\n",
      "│   1993 │ Julian Gitche        │\n",
      "├────────┼──────────────────────┤\n",
      "│   2016 │ Detective Galban     │\n",
      "├────────┼──────────────────────┤\n",
      "│   1996 │ Jjaks Clayton        │\n",
      "├────────┼──────────────────────┤\n",
      "│   1986 │ Tommy Warneki        │\n",
      "├────────┼──────────────────────┤\n",
      "│   1993 │ Ortiz the Dog Boy    │\n",
      "├────────┼──────────────────────┤\n",
      "│   2012 │ John                 │\n",
      "├────────┼──────────────────────┤\n",
      "│   2001 │ Conor O'Neill        │\n",
      "├────────┼──────────────────────┤\n",
      "│   2010 │ Henry Torne          │\n",
      "├────────┼──────────────────────┤\n",
      "│   1990 │ Marlon               │\n",
      "├────────┼──────────────────────┤\n",
      "│   2014 │ John Wick            │\n",
      "├────────┼──────────────────────┤\n",
      "│   2017 │ John Wick            │\n",
      "├────────┼──────────────────────┤\n",
      "│   2019 │ John Wick            │\n",
      "├────────┼──────────────────────┤\n",
      "│   1995 │ Johnny Mnemonic      │\n",
      "├────────┼──────────────────────┤\n",
      "│   2016 │ Keanu                │\n",
      "├────────┼──────────────────────┤\n",
      "│   2015 │ Evan                 │\n",
      "├────────┼──────────────────────┤\n",
      "│   1993 │ Siddhartha           │\n",
      "├────────┼──────────────────────┤\n",
      "│   2013 │ Donaka Mark          │\n",
      "├────────┼──────────────────────┤\n",
      "│   1999 │ Dogstar              │\n",
      "├────────┼──────────────────────┤\n",
      "│   1999 │ Himself              │\n",
      "├────────┼──────────────────────┤\n",
      "│   1993 │ Don John             │\n",
      "├────────┼──────────────────────┤\n",
      "│   1991 │ Scott Favor          │\n",
      "├────────┼──────────────────────┤\n",
      "│   1985 │ Ron Petrie           │\n",
      "├────────┼──────────────────────┤\n",
      "│   1989 │ Tod                  │\n",
      "├────────┼──────────────────────┤\n",
      "│   1988 │ Chris Townsend       │\n",
      "├────────┼──────────────────────┤\n",
      "│   1991 │ Johnny Utah          │\n",
      "├────────┼──────────────────────┤\n",
      "│   1986 │ Matt                 │\n",
      "├────────┼──────────────────────┤\n",
      "│   2018 │ Lucas Hill           │\n",
      "├────────┼──────────────────────┤\n",
      "│   2003 │ Julian Mercer        │\n",
      "├────────┼──────────────────────┤\n",
      "│   1994 │ Jack Traven          │\n",
      "├────────┼──────────────────────┤\n",
      "│   2017 │ Keanu Reeves         │\n",
      "├────────┼──────────────────────┤\n",
      "│   2008 │ Detective Tom Ludlow │\n",
      "├────────┼──────────────────────┤\n",
      "│   2001 │ Nelson Moss          │\n",
      "├────────┼──────────────────────┤\n",
      "│   2016 │ The Dream            │\n",
      "├────────┼──────────────────────┤\n",
      "│   2008 │ Klaatu               │\n",
      "├────────┼──────────────────────┤\n",
      "│   1997 │ Kevin Lomax          │\n",
      "├────────┼──────────────────────┤\n",
      "│   2000 │ Donnie Barksdale     │\n",
      "├────────┼──────────────────────┤\n",
      "│   2006 │ Alex Wyler           │\n",
      "├────────┼──────────────────────┤\n",
      "│   1997 │ Harry                │\n",
      "├────────┼──────────────────────┤\n",
      "│   1999 │ Neo                  │\n",
      "├────────┼──────────────────────┤\n",
      "│   2003 │ Neo                  │\n",
      "├────────┼──────────────────────┤\n",
      "│   2003 │ Neo                  │\n",
      "├────────┼──────────────────────┤\n",
      "│   2016 │ Hank                 │\n",
      "├────────┼──────────────────────┤\n",
      "│   1988 │ Winston Connelly     │\n",
      "├────────┼──────────────────────┤\n",
      "│   1988 │ Rupert Marshetta     │\n",
      "├────────┼──────────────────────┤\n",
      "│   2009 │ Chris Nadeau         │\n",
      "├────────┼──────────────────────┤\n",
      "│   2000 │ Shane Falco          │\n",
      "├────────┼──────────────────────┤\n",
      "│   2000 │ Griffin              │\n",
      "├────────┼──────────────────────┤\n",
      "│   2016 │ Ramsey               │\n",
      "├────────┼──────────────────────┤\n",
      "│   2005 │ Perry Lyman          │\n",
      "├────────┼──────────────────────┤\n",
      "│   2017 │ Dr. Beckham          │\n",
      "├────────┼──────────────────────┤\n",
      "│   1990 │ Martin Loader        │\n",
      "├────────┼──────────────────────┤\n",
      "│   1986 │ Heaver               │\n",
      "╘════════╧══════════════════════╛\n"
     ]
    },
    {
     "data": {
      "text/plain": [
       "<matplotlib.axes._subplots.AxesSubplot at 0x7f40df1a12b0>"
      ]
     },
     "execution_count": 41,
     "metadata": {},
     "output_type": "execute_result"
    },
    {
     "data": {
      "image/png": "[encoded data removed]",
      "text/plain": [
       "<Figure size 1080x720 with 1 Axes>"
      ]
     },
     "metadata": {},
     "output_type": "display_data"
    }
   ],
   "source": [
    "cast_keanu_df = cast[cast.name == 'Keanu Reeves'][['year','character']]\n",
    "print(tabulate(cast_keanu_df, headers=['Year','Character'], tablefmt='fancy_grid', showindex=False))\n",
    "cast_keanu_df.groupby('year').size().reset_index(name='Count').sort_values(by=['year']).plot.bar(x='year', y = 'Count',rot = 60, figsize=(15,10))"
   ]
  },
  {
   "cell_type": "markdown",
   "metadata": {},
   "source": [
    "### Section II - Q6: Plot the cast positions (n-values) of Keanu Reeve's roles through his career over the years.\n"
   ]
  },
  {
   "cell_type": "code",
   "execution_count": 42,
   "metadata": {},
   "outputs": [
    {
     "name": "stdout",
     "output_type": "stream",
     "text": [
      "╒════════╤═════╕\n",
      "│   Year │   n │\n",
      "╞════════╪═════╡\n",
      "│   1985 │   1 │\n",
      "├────────┼─────┤\n",
      "│   1986 │   2 │\n",
      "├────────┼─────┤\n",
      "│   1986 │   3 │\n",
      "├────────┼─────┤\n",
      "│   1986 │  12 │\n",
      "├────────┼─────┤\n",
      "│   1988 │   6 │\n",
      "├────────┼─────┤\n",
      "│   1988 │   2 │\n",
      "├────────┼─────┤\n",
      "│   1988 │   1 │\n",
      "├────────┼─────┤\n",
      "│   1988 │   5 │\n",
      "├────────┼─────┤\n",
      "│   1989 │   8 │\n",
      "├────────┼─────┤\n",
      "│   1989 │   1 │\n",
      "├────────┼─────┤\n",
      "│   1990 │   2 │\n",
      "├────────┼─────┤\n",
      "│   1990 │   6 │\n",
      "├────────┼─────┤\n",
      "│   1991 │   2 │\n",
      "├────────┼─────┤\n",
      "│   1991 │   2 │\n",
      "├────────┼─────┤\n",
      "│   1991 │   1 │\n",
      "├────────┼─────┤\n",
      "│   1992 │   4 │\n",
      "├────────┼─────┤\n",
      "│   1993 │  13 │\n",
      "├────────┼─────┤\n",
      "│   1993 │   1 │\n",
      "├────────┼─────┤\n",
      "│   1993 │   5 │\n",
      "├────────┼─────┤\n",
      "│   1994 │   1 │\n",
      "├────────┼─────┤\n",
      "│   1995 │   1 │\n",
      "├────────┼─────┤\n",
      "│   1995 │   1 │\n",
      "├────────┼─────┤\n",
      "│   1996 │   1 │\n",
      "├────────┼─────┤\n",
      "│   1996 │   1 │\n",
      "├────────┼─────┤\n",
      "│   1997 │   2 │\n",
      "├────────┼─────┤\n",
      "│   1997 │   1 │\n",
      "├────────┼─────┤\n",
      "│   1999 │  42 │\n",
      "├────────┼─────┤\n",
      "│   1999 │  42 │\n",
      "├────────┼─────┤\n",
      "│   1999 │   1 │\n",
      "├────────┼─────┤\n",
      "│   2000 │   3 │\n",
      "├────────┼─────┤\n",
      "│   2000 │   3 │\n",
      "├────────┼─────┤\n",
      "│   2000 │   1 │\n",
      "├────────┼─────┤\n",
      "│   2001 │   1 │\n",
      "├────────┼─────┤\n",
      "│   2001 │   1 │\n",
      "├────────┼─────┤\n",
      "│   2003 │  33 │\n",
      "├────────┼─────┤\n",
      "│   2003 │  59 │\n",
      "├────────┼─────┤\n",
      "│   2003 │   3 │\n",
      "├────────┼─────┤\n",
      "│   2005 │  21 │\n",
      "├────────┼─────┤\n",
      "│   2005 │  17 │\n",
      "├────────┼─────┤\n",
      "│   2005 │   1 │\n",
      "├────────┼─────┤\n",
      "│   2006 │   1 │\n",
      "├────────┼─────┤\n",
      "│   2006 │   4 │\n",
      "├────────┼─────┤\n",
      "│   2008 │   1 │\n",
      "├────────┼─────┤\n",
      "│   2008 │   1 │\n",
      "├────────┼─────┤\n",
      "│   2009 │  16 │\n",
      "├────────┼─────┤\n",
      "│   2010 │   1 │\n",
      "├────────┼─────┤\n",
      "│   2013 │   1 │\n",
      "├────────┼─────┤\n",
      "│   2013 │   2 │\n",
      "├────────┼─────┤\n",
      "│   2014 │   1 │\n",
      "├────────┼─────┤\n",
      "│   2015 │   1 │\n",
      "├────────┼─────┤\n",
      "│   2016 │   8 │\n",
      "├────────┼─────┤\n",
      "│   2016 │  25 │\n",
      "├────────┼─────┤\n",
      "│   2016 │   1 │\n",
      "├────────┼─────┤\n",
      "│   2016 │   8 │\n",
      "├────────┼─────┤\n",
      "│   2016 │   4 │\n",
      "├────────┼─────┤\n",
      "│   2017 │   1 │\n",
      "├────────┼─────┤\n",
      "│   2017 │  11 │\n",
      "├────────┼─────┤\n",
      "│   2018 │   1 │\n",
      "╘════════╧═════╛\n"
     ]
    },
    {
     "data": {
      "text/plain": [
       "<matplotlib.axes._subplots.AxesSubplot at 0x7f40de9fae48>"
      ]
     },
     "execution_count": 42,
     "metadata": {},
     "output_type": "execute_result"
    },
    {
     "data": {
      "image/png": "[encoded data removed]",
      "text/plain": [
       "<Figure size 1440x1080 with 1 Axes>"
      ]
     },
     "metadata": {},
     "output_type": "display_data"
    }
   ],
   "source": [
    "cast_keanu_df = cast[(cast.name == 'Keanu Reeves') & (cast.n.notnull())][['year','n']].sort_values(by=['year'])\n",
    "print(tabulate(cast_keanu_df, headers=['Year','n'], tablefmt='fancy_grid', showindex=False))\n",
    "cast_keanu_df.plot(kind='bar',x = 'year', y = 'n',rot=60, figsize=(20,15))"
   ]
  },
  {
   "cell_type": "markdown",
   "metadata": {},
   "source": [
    "### Section II - Q7: Plot the number of \"Hamlet\" films made by each decade"
   ]
  },
  {
   "cell_type": "code",
   "execution_count": 106,
   "metadata": {},
   "outputs": [
    {
     "name": "stdout",
     "output_type": "stream",
     "text": [
      "╒═════════════════════════════════════════╤════════╕\n",
      "│ title                                   │   year │\n",
      "╞═════════════════════════════════════════╪════════╡\n",
      "│ Hamlet                                  │   1910 │\n",
      "├─────────────────────────────────────────┼────────┤\n",
      "│ Hamlet                                  │   1911 │\n",
      "├─────────────────────────────────────────┼────────┤\n",
      "│ Hamlet                                  │   1913 │\n",
      "├─────────────────────────────────────────┼────────┤\n",
      "│ A Sagebrush Hamlet                      │   1919 │\n",
      "├─────────────────────────────────────────┼────────┤\n",
      "│ Hamlet                                  │   1921 │\n",
      "├─────────────────────────────────────────┼────────┤\n",
      "│ Han, hun og Hamlet                      │   1922 │\n",
      "├─────────────────────────────────────────┼────────┤\n",
      "│ Han, hun og Hamlet                      │   1932 │\n",
      "├─────────────────────────────────────────┼────────┤\n",
      "│ Hamlet                                  │   1948 │\n",
      "├─────────────────────────────────────────┼────────┤\n",
      "│ Hamlet                                  │   1954 │\n",
      "├─────────────────────────────────────────┼────────┤\n",
      "│ Hamlet                                  │   1964 │\n",
      "├─────────────────────────────────────────┼────────┤\n",
      "│ Hamlet (II)                             │   1964 │\n",
      "├─────────────────────────────────────────┼────────┤\n",
      "│ Hamlet                                  │   1969 │\n",
      "├─────────────────────────────────────────┼────────┤\n",
      "│ Hamlet                                  │   1973 │\n",
      "├─────────────────────────────────────────┼────────┤\n",
      "│ Predstava 'Hamleta' u Mrdusi Donjoj     │   1974 │\n",
      "├─────────────────────────────────────────┼────────┤\n",
      "│ Intikam Melegi/Kadin Hamlet             │   1976 │\n",
      "├─────────────────────────────────────────┼────────┤\n",
      "│ Hamlet                                  │   1976 │\n",
      "├─────────────────────────────────────────┼────────┤\n",
      "│ Hamlet liikemaailmassa                  │   1987 │\n",
      "├─────────────────────────────────────────┼────────┤\n",
      "│ Hamlet                                  │   1987 │\n",
      "├─────────────────────────────────────────┼────────┤\n",
      "│ Hamlet: Prince of Denmark               │   1989 │\n",
      "├─────────────────────────────────────────┼────────┤\n",
      "│ Hamlet                                  │   1990 │\n",
      "├─────────────────────────────────────────┼────────┤\n",
      "│ H for Hamlet                            │   1993 │\n",
      "├─────────────────────────────────────────┼────────┤\n",
      "│ Green Eggs and Hamlet                   │   1995 │\n",
      "├─────────────────────────────────────────┼────────┤\n",
      "│ Hamlet                                  │   1996 │\n",
      "├─────────────────────────────────────────┼────────┤\n",
      "│ Fuck Hamlet                             │   1996 │\n",
      "├─────────────────────────────────────────┼────────┤\n",
      "│ Hamlet, Prince of Denmark               │   1997 │\n",
      "├─────────────────────────────────────────┼────────┤\n",
      "│ Hamlet                                  │   2000 │\n",
      "├─────────────────────────────────────────┼────────┤\n",
      "│ Hamlet in the Hamptons                  │   2002 │\n",
      "├─────────────────────────────────────────┼────────┤\n",
      "│ Hamlet_X                                │   2003 │\n",
      "├─────────────────────────────────────────┼────────┤\n",
      "│ Hamlet X                                │   2004 │\n",
      "├─────────────────────────────────────────┼────────┤\n",
      "│ Dogg's Hamlet, Cahoot's Macbeth         │   2005 │\n",
      "├─────────────────────────────────────────┼────────┤\n",
      "│ Hamlet (II)                             │   2005 │\n",
      "├─────────────────────────────────────────┼────────┤\n",
      "│ The Tragedy of Hamlet Prince of Denmark │   2007 │\n",
      "├─────────────────────────────────────────┼────────┤\n",
      "│ Hamlet (III)                            │   2007 │\n",
      "├─────────────────────────────────────────┼────────┤\n",
      "│ Hamlet (II)                             │   2007 │\n",
      "├─────────────────────────────────────────┼────────┤\n",
      "│ Hamlet 2                                │   2008 │\n",
      "├─────────────────────────────────────────┼────────┤\n",
      "│ Hamlet the Vampire Slayer               │   2008 │\n",
      "├─────────────────────────────────────────┼────────┤\n",
      "│ Kitchen Hamlet                          │   2009 │\n",
      "├─────────────────────────────────────────┼────────┤\n",
      "│ Hamlet                                  │   2009 │\n",
      "├─────────────────────────────────────────┼────────┤\n",
      "│ Hamlet Demonstration                    │   2011 │\n",
      "├─────────────────────────────────────────┼────────┤\n",
      "│ Hamlet                                  │   2011 │\n",
      "├─────────────────────────────────────────┼────────┤\n",
      "│ Hamlet Unbound                          │   2012 │\n",
      "├─────────────────────────────────────────┼────────┤\n",
      "│ Zombie Hamlet                           │   2012 │\n",
      "├─────────────────────────────────────────┼────────┤\n",
      "│ Harry, Hamlet and I                     │   2013 │\n",
      "├─────────────────────────────────────────┼────────┤\n",
      "│ Hamlet A.D.D.                           │   2014 │\n",
      "├─────────────────────────────────────────┼────────┤\n",
      "│ Hamlet                                  │   2014 │\n",
      "├─────────────────────────────────────────┼────────┤\n",
      "│ National Theatre Live: Hamlet           │   2015 │\n",
      "├─────────────────────────────────────────┼────────┤\n",
      "│ Hamlet                                  │   2015 │\n",
      "├─────────────────────────────────────────┼────────┤\n",
      "│ Hamlet, Son of a Kingpin                │   2015 │\n",
      "├─────────────────────────────────────────┼────────┤\n",
      "│ Hamlet (II)                             │   2015 │\n",
      "├─────────────────────────────────────────┼────────┤\n",
      "│ Hamlet's Ghost                          │   2015 │\n",
      "├─────────────────────────────────────────┼────────┤\n",
      "│ Hamlet                                  │   2016 │\n",
      "├─────────────────────────────────────────┼────────┤\n",
      "│ Royal Shakespeare Company: Hamlet       │   2016 │\n",
      "├─────────────────────────────────────────┼────────┤\n",
      "│ Hamlet in the Golden Vale               │   2017 │\n",
      "├─────────────────────────────────────────┼────────┤\n",
      "│ Hamlet/Horatio                          │   2017 │\n",
      "├─────────────────────────────────────────┼────────┤\n",
      "│ Hamlet (II)                             │   2017 │\n",
      "├─────────────────────────────────────────┼────────┤\n",
      "│ Hamlet                                  │   2017 │\n",
      "├─────────────────────────────────────────┼────────┤\n",
      "│ Hamlet: The Fall of a Sparrow           │   2018 │\n",
      "╘═════════════════════════════════════════╧════════╛\n"
     ]
    },
    {
     "data": {
      "text/plain": [
       "<matplotlib.axes._subplots.AxesSubplot at 0x7f40bcd61828>"
      ]
     },
     "execution_count": 106,
     "metadata": {},
     "output_type": "execute_result"
    },
    {
     "data": {
      "image/png": "[encoded data removed]",
      "text/plain": [
       "<Figure size 1440x1080 with 1 Axes>"
      ]
     },
     "metadata": {},
     "output_type": "display_data"
    }
   ],
   "source": [
    "movies_hamlet_df = movies[(movies.title.str.contains('Hamlet', case=False)) ].sort_values(by=['year'])\n",
    "print(tabulate(movies_hamlet_df, headers='keys', tablefmt='fancy_grid', showindex=False))\n",
    "\n",
    "movies_hamlet_by_decade = movies_hamlet_df.groupby((movies_hamlet_df.year//10)*10).count()\n",
    "\n",
    "movies_hamlet_by_decade.year.plot(kind='bar',figsize=(20,15))\n"
   ]
  },
  {
   "cell_type": "markdown",
   "metadata": {},
   "source": [
    "### Section II - Q8: \n",
    "\n",
    "(A) How many leading roles were available to both actors and actresses, in the 1960s (1960-1969)?\n",
    "\n",
    "(B) How many leading roles were available to both actors and actresses, in the 2000s (2000-2009)?\n",
    "\n",
    "- Hint: A specific value of n might indicate a leading role"
   ]
  },
  {
   "cell_type": "code",
   "execution_count": 44,
   "metadata": {},
   "outputs": [
    {
     "name": "stdout",
     "output_type": "stream",
     "text": [
      "The no of leading roles in the 60s are : 11823\n"
     ]
    }
   ],
   "source": [
    "cast_lead_df = cast[(cast.n == 1.0) & (cast.year >= 1960) & (cast.year <= 1969)]\n",
    "print(f'The no of leading roles in the 60s are : {len(cast_lead_df)}')"
   ]
  },
  {
   "cell_type": "code",
   "execution_count": 45,
   "metadata": {},
   "outputs": [
    {
     "name": "stdout",
     "output_type": "stream",
     "text": [
      "The no of leading roles in the 2000s are : 26344\n"
     ]
    }
   ],
   "source": [
    "cast_lead_df = cast[(cast.n == 1.0) & (cast.year >= 2000) & (cast.year <= 2009)]\n",
    "print(f'The no of leading roles in the 2000s are : {len(cast_lead_df)}')"
   ]
  },
  {
   "cell_type": "markdown",
   "metadata": {},
   "source": [
    "### Section II - Q9: List, in order by year, each of the films in which Frank Oz has played more than 1 role."
   ]
  },
  {
   "cell_type": "code",
   "execution_count": 46,
   "metadata": {},
   "outputs": [
    {
     "name": "stdout",
     "output_type": "stream",
     "text": [
      "╒════════╤══════════════════════════════════════╤═════════╕\n",
      "│   year │ title                                │   Count │\n",
      "╞════════╪══════════════════════════════════════╪═════════╡\n",
      "│   1979 │ The Muppet Movie                     │       8 │\n",
      "├────────┼──────────────────────────────────────┼─────────┤\n",
      "│   1981 │ An American Werewolf in London       │       2 │\n",
      "├────────┼──────────────────────────────────────┼─────────┤\n",
      "│   1981 │ The Great Muppet Caper               │       6 │\n",
      "├────────┼──────────────────────────────────────┼─────────┤\n",
      "│   1982 │ The Dark Crystal                     │       2 │\n",
      "├────────┼──────────────────────────────────────┼─────────┤\n",
      "│   1984 │ The Muppets Take Manhattan           │       7 │\n",
      "├────────┼──────────────────────────────────────┼─────────┤\n",
      "│   1985 │ Follow That Bird                     │       3 │\n",
      "├────────┼──────────────────────────────────────┼─────────┤\n",
      "│   1992 │ The Muppet Christmas Carol           │       7 │\n",
      "├────────┼──────────────────────────────────────┼─────────┤\n",
      "│   1996 │ Muppet Treasure Island               │       4 │\n",
      "├────────┼──────────────────────────────────────┼─────────┤\n",
      "│   1999 │ Muppets from Space                   │       4 │\n",
      "├────────┼──────────────────────────────────────┼─────────┤\n",
      "│   1999 │ The Adventures of Elmo in Grouchland │       3 │\n",
      "╘════════╧══════════════════════════════════════╧═════════╛\n"
     ]
    }
   ],
   "source": [
    "cast_frank_oz_df = cast[cast.name == 'Frank Oz'][['year','title', 'character']].sort_values(by=['year'])\n",
    "cast_frank_oz_group_df = cast_frank_oz_df.groupby(['year','title']).size().reset_index(name='Count')\n",
    "\n",
    "print(tabulate(cast_frank_oz_group_df[cast_frank_oz_group_df.Count > 1 ], headers='keys', tablefmt='fancy_grid', showindex=False))"
   ]
  },
  {
   "cell_type": "markdown",
   "metadata": {},
   "source": [
    "### Section II - Q10: List each of the characters that Frank Oz has portrayed at least twice"
   ]
  },
  {
   "cell_type": "code",
   "execution_count": 47,
   "metadata": {},
   "outputs": [
    {
     "name": "stdout",
     "output_type": "stream",
     "text": [
      "╒════════════════╤═════════╕\n",
      "│ character      │   Count │\n",
      "╞════════════════╪═════════╡\n",
      "│ Animal         │       6 │\n",
      "├────────────────┼─────────┤\n",
      "│ Miss Piggy     │       6 │\n",
      "├────────────────┼─────────┤\n",
      "│ Yoda           │       6 │\n",
      "├────────────────┼─────────┤\n",
      "│ Cookie Monster │       5 │\n",
      "├────────────────┼─────────┤\n",
      "│ Sam the Eagle  │       5 │\n",
      "├────────────────┼─────────┤\n",
      "│ Fozzie Bear    │       4 │\n",
      "├────────────────┼─────────┤\n",
      "│ Bert           │       3 │\n",
      "├────────────────┼─────────┤\n",
      "│ Grover         │       2 │\n",
      "╘════════════════╧═════════╛\n"
     ]
    }
   ],
   "source": [
    "cast_frank_oz_df = cast[cast.name == 'Frank Oz'][['year', 'character']].sort_values(by=['year'])\n",
    "cast_frank_oz_count_df = cast_frank_oz_df.groupby('character').size().reset_index(name='Count').sort_values(by=['Count'],ascending=False)\n",
    "cast_frank_oz_character_count_df = cast_frank_oz_count_df[cast_frank_oz_count_df.Count > 1]\n",
    "print(tabulate(cast_frank_oz_character_count_df, headers='keys', tablefmt='fancy_grid', showindex=False))"
   ]
  },
  {
   "cell_type": "markdown",
   "metadata": {},
   "source": [
    "# Section III - Advanced Merging, Querying and Visualizations"
   ]
  },
  {
   "cell_type": "markdown",
   "metadata": {},
   "source": [
    "## Make a bar plot with the following conditions\n",
    "- Frequency of the number of movies with \"Christmas\" in their title \n",
    "- Movies should be such that they are released in the USA.\n",
    "- Show the frequency plot by month"
   ]
  },
  {
   "cell_type": "code",
   "execution_count": 48,
   "metadata": {},
   "outputs": [
    {
     "data": {
      "text/plain": [
       "<matplotlib.axes._subplots.AxesSubplot at 0x7f40dea32588>"
      ]
     },
     "execution_count": 48,
     "metadata": {},
     "output_type": "execute_result"
    },
    {
     "data": {
      "image/png": "[encoded data removed]",
      "text/plain": [
       "<Figure size 432x288 with 1 Axes>"
      ]
     },
     "metadata": {},
     "output_type": "display_data"
    }
   ],
   "source": [
    "christmas = release_dates[(release_dates.title.str.contains('Christmas')) & (release_dates.country == 'USA')]\n",
    "christmas.date.dt.month.value_counts().sort_index().plot(kind='bar')"
   ]
  },
  {
   "cell_type": "markdown",
   "metadata": {},
   "source": [
    "### Section III - Q1: Make a bar plot with the following conditions\n",
    "- Frequency of the number of movies with \"Summer\" in their title \n",
    "- Movies should be such that they are released in the USA.\n",
    "- Show the frequency plot by month"
   ]
  },
  {
   "cell_type": "code",
   "execution_count": 49,
   "metadata": {},
   "outputs": [
    {
     "data": {
      "text/plain": [
       "<matplotlib.axes._subplots.AxesSubplot at 0x7f40de5f25c0>"
      ]
     },
     "execution_count": 49,
     "metadata": {},
     "output_type": "execute_result"
    },
    {
     "data": {
      "image/png": "[encoded data removed]",
      "text/plain": [
       "<Figure size 432x288 with 1 Axes>"
      ]
     },
     "metadata": {},
     "output_type": "display_data"
    }
   ],
   "source": [
    "summer = release_dates[(release_dates.title.str.contains('Summer')) & (release_dates.country == 'USA')]\n",
    "summer.date.dt.month.value_counts().sort_index().plot(kind='bar')"
   ]
  },
  {
   "cell_type": "markdown",
   "metadata": {},
   "source": [
    "### Section III - Q2: Make a bar plot with the following conditions\n",
    "- Frequency of the number of movies with \"Action\" in their title \n",
    "- Movies should be such that they are released in the USA.\n",
    "- Show the frequency plot by week"
   ]
  },
  {
   "cell_type": "code",
   "execution_count": 86,
   "metadata": {},
   "outputs": [
    {
     "data": {
      "text/plain": [
       "<matplotlib.axes._subplots.AxesSubplot at 0x7f40dd9b0cf8>"
      ]
     },
     "execution_count": 86,
     "metadata": {},
     "output_type": "execute_result"
    },
    {
     "data": {
      "image/png": "[encoded data removed]",
      "text/plain": [
       "<Figure size 1440x1080 with 1 Axes>"
      ]
     },
     "metadata": {},
     "output_type": "display_data"
    }
   ],
   "source": [
    "action = release_dates[(release_dates.title.str.contains('Action')) & (release_dates.country == 'USA')]\n",
    "action.date.dt.week.value_counts().sort_index().plot(kind='bar', figsize=(20,15))\n"
   ]
  },
  {
   "cell_type": "markdown",
   "metadata": {},
   "source": [
    "### Section III - Q3: Show all the movies in which Keanu Reeves has played the lead role along with their   release date in the USA sorted by the date of release\n",
    "- Hint: You might need to join or merge two datasets!"
   ]
  },
  {
   "cell_type": "code",
   "execution_count": 66,
   "metadata": {},
   "outputs": [
    {
     "name": "stdout",
     "output_type": "stream",
     "text": [
      "╒══════════════════════════════════╤═════════════════════╕\n",
      "│ Movie Name                       │ Release Date        │\n",
      "╞══════════════════════════════════╪═════════════════════╡\n",
      "│ The Night Before                 │ 1988-04-15 00:00:00 │\n",
      "├──────────────────────────────────┼─────────────────────┤\n",
      "│ Bill & Ted's Excellent Adventure │ 1989-02-17 00:00:00 │\n",
      "├──────────────────────────────────┼─────────────────────┤\n",
      "│ Bill & Ted's Bogus Journey       │ 1991-07-19 00:00:00 │\n",
      "├──────────────────────────────────┼─────────────────────┤\n",
      "│ Little Buddha                    │ 1994-05-25 00:00:00 │\n",
      "├──────────────────────────────────┼─────────────────────┤\n",
      "│ Speed                            │ 1994-06-10 00:00:00 │\n",
      "├──────────────────────────────────┼─────────────────────┤\n",
      "│ Johnny Mnemonic                  │ 1995-05-26 00:00:00 │\n",
      "├──────────────────────────────────┼─────────────────────┤\n",
      "│ A Walk in the Clouds             │ 1995-08-11 00:00:00 │\n",
      "├──────────────────────────────────┼─────────────────────┤\n",
      "│ Chain Reaction                   │ 1996-08-02 00:00:00 │\n",
      "├──────────────────────────────────┼─────────────────────┤\n",
      "│ Feeling Minnesota                │ 1996-09-13 00:00:00 │\n",
      "├──────────────────────────────────┼─────────────────────┤\n",
      "│ The Devil's Advocate             │ 1997-10-17 00:00:00 │\n",
      "├──────────────────────────────────┼─────────────────────┤\n",
      "│ The Matrix                       │ 1999-03-31 00:00:00 │\n",
      "├──────────────────────────────────┼─────────────────────┤\n",
      "│ The Replacements                 │ 2000-08-11 00:00:00 │\n",
      "├──────────────────────────────────┼─────────────────────┤\n",
      "│ Sweet November                   │ 2001-02-16 00:00:00 │\n",
      "├──────────────────────────────────┼─────────────────────┤\n",
      "│ Hard Ball                        │ 2001-09-14 00:00:00 │\n",
      "├──────────────────────────────────┼─────────────────────┤\n",
      "│ Constantine                      │ 2005-02-18 00:00:00 │\n",
      "├──────────────────────────────────┼─────────────────────┤\n",
      "│ The Lake House                   │ 2006-06-16 00:00:00 │\n",
      "├──────────────────────────────────┼─────────────────────┤\n",
      "│ Street Kings                     │ 2008-04-11 00:00:00 │\n",
      "├──────────────────────────────────┼─────────────────────┤\n",
      "│ The Day the Earth Stood Still    │ 2008-12-12 00:00:00 │\n",
      "├──────────────────────────────────┼─────────────────────┤\n",
      "│ 47 Ronin                         │ 2013-12-25 00:00:00 │\n",
      "├──────────────────────────────────┼─────────────────────┤\n",
      "│ John Wick                        │ 2014-10-24 00:00:00 │\n",
      "├──────────────────────────────────┼─────────────────────┤\n",
      "│ Knock Knock                      │ 2015-10-09 00:00:00 │\n",
      "├──────────────────────────────────┼─────────────────────┤\n",
      "│ John Wick: Chapter 2             │ 2017-02-10 00:00:00 │\n",
      "╘══════════════════════════════════╧═════════════════════╛\n"
     ]
    }
   ],
   "source": [
    "cast_release_merge_df = pd.merge(cast, release_dates, on=['title','year'])\n",
    "cast_release_merge_keanu_lead_df = cast_release_merge_df[(cast_release_merge_df.name.str.contains('Keanu Reeves')) & (cast_release_merge_df.n == 1.0)]\n",
    "cast_release_merge_keanu_lead_usa_df = cast_release_merge_keanu_lead_df[cast_release_merge_keanu_lead_df.country == 'USA'].sort_values(by=['date'])[['title','date']]\n",
    "print(tabulate(cast_release_merge_keanu_lead_usa_df, headers=['Movie Name','Release Date'], tablefmt='fancy_grid', showindex=False))"
   ]
  },
  {
   "cell_type": "markdown",
   "metadata": {},
   "source": [
    "### Section III - Q4: Make a bar plot showing the months in which movies with Keanu Reeves tend to be released in the USA?"
   ]
  },
  {
   "cell_type": "code",
   "execution_count": 85,
   "metadata": {},
   "outputs": [
    {
     "data": {
      "text/plain": [
       "<matplotlib.axes._subplots.AxesSubplot at 0x7f40dd8e1eb8>"
      ]
     },
     "execution_count": 85,
     "metadata": {},
     "output_type": "execute_result"
    },
    {
     "data": {
      "image/png": "[encoded data removed]",
      "text/plain": [
       "<Figure size 1440x1080 with 1 Axes>"
      ]
     },
     "metadata": {},
     "output_type": "display_data"
    }
   ],
   "source": [
    "\n",
    "cast_release_merge_keanu_lead_df = cast_release_merge_df[(cast_release_merge_df.name.str.contains('Keanu Reeves')) & (cast_release_merge_df.country == 'USA')]\n",
    "cast_release_merge_keanu_lead_df.date.dt.month.value_counts().sort_index().plot(kind='bar',figsize=(20,15))"
   ]
  },
  {
   "cell_type": "markdown",
   "metadata": {},
   "source": [
    "### Section III - Q5: Make a bar plot showing the years in which movies with Ian McKellen tend to be released in the USA?"
   ]
  },
  {
   "cell_type": "code",
   "execution_count": 84,
   "metadata": {},
   "outputs": [
    {
     "data": {
      "text/plain": [
       "<matplotlib.axes._subplots.AxesSubplot at 0x7f40ddb29630>"
      ]
     },
     "execution_count": 84,
     "metadata": {},
     "output_type": "execute_result"
    },
    {
     "data": {
      "image/png": "[encoded data removed]",
      "text/plain": [
       "<Figure size 1440x1080 with 1 Axes>"
      ]
     },
     "metadata": {},
     "output_type": "display_data"
    }
   ],
   "source": [
    "cast_release_merge_ian_lead_df = cast_release_merge_df[(cast_release_merge_df.name.str.contains('Ian McKellen')) & (cast_release_merge_df.country == 'USA')]\n",
    "cast_release_merge_ian_lead_df.date.dt.year.value_counts().sort_index().plot(kind='bar', figsize=(20,15))"
   ]
  },
  {
   "cell_type": "code",
   "execution_count": null,
   "metadata": {
    "collapsed": true
   },
   "outputs": [],
   "source": []
  }
 ],
 "metadata": {
  "kernelspec": {
   "display_name": "Python 3",
   "language": "python",
   "name": "python3"
  },
  "language_info": {
   "codemirror_mode": {
    "name": "ipython",
    "version": 3
   },
   "file_extension": ".py",
   "mimetype": "text/x-python",
   "name": "python",
   "nbconvert_exporter": "python",
   "pygments_lexer": "ipython3",
   "version": "3.6.2"
  }
 },
 "nbformat": 4,
 "nbformat_minor": 2
}
